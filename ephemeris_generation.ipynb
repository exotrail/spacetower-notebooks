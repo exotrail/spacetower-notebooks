{
  "cells": [
    {
      "cell_type": "markdown",
      "id": "dc2f3a1e",
      "metadata": {},
      "source": [
        "# Ephemeris generation\n",
        "##### In this notebook, we demonstrate how to generate and analyze the ephemerides of a spacecraft. By extrapolating the spacecraft's trajectory along with its covariance, we obtain the ephemerides in a CCSDS OEM format. Additionally, we plot the orbital elements to visualize the results. You will learn how to configure the initial orbital state using TLE data, set up the propagation context, and create the necessary models to generate accurate ephemerides."
      ]
    },
    {
      "cell_type": "markdown",
      "id": "8eaa6bcd",
      "metadata": {},
      "source": [
        "## Jupyter Notebook Help Guide\n",
        "Welcome to your Jupyter Notebook! If you need assistance or more information about any function, method, or object, the contextual help window is a valuable tool.\n",
        "\n",
        "***Important - To have access to contextual help, start by running the [Imports](#imports) section below***\n",
        "\n",
        "![Run Notebook](https://portal.exotrail.space/images/products/notebooks/execute_workflow.jpg)\n"
      ]
    },
    {
      "cell_type": "markdown",
      "id": "ab3b9467",
      "metadata": {},
      "source": [
        "### How to Open the Contextual Help Window\n"
      ]
    },
    {
      "cell_type": "markdown",
      "id": "0b3a6296",
      "metadata": {},
      "source": [
        "1. **Use the Help Menu**:\n",
        "   - Navigate to the top menu bar and click on `Help`. From the dropdown menu, select `Show Contextual Help`.\n",
        "2. **Keyboard Shortcut**:\n",
        "   - Press `Shift + Tab` while your cursor is over the code you want more information on. For a more detailed view, press `Shift + Tab` twice.\n",
        "3. **Using the Inspector**:\n",
        "   - Type `?` followed by the function or object name and run the cell. For example, `?print`.\n",
        "   - To see the full documentation, use `??` instead, e.g., `??print`.\n"
      ]
    },
    {
      "cell_type": "markdown",
      "id": "2d455508",
      "metadata": {},
      "source": [
        "### Tips for Using the Contextual Help\n"
      ]
    },
    {
      "cell_type": "markdown",
      "id": "8e1266ae",
      "metadata": {},
      "source": [
        "- **Inline Help**: Single press `Shift + Tab` to get a brief pop-up of the docstring.\n",
        "- **Expanded Help**: Double press `Shift + Tab` or click the expand icon in the pop-up to open the full documentation in the help pane.\n",
        "- **Persistent Help Pane**: Use the Help menu or `Shift + Tab` twice to dock the help pane on the right side of the screen, where it can stay open as you work.\n",
        "This feature can help you understand function parameters, return types, and see example usages directly in your notebook. Happy coding!"
      ]
    },
    {
      "cell_type": "markdown",
      "id": "daab649c",
      "metadata": {},
      "source": [
        "## Imports"
      ]
    },
    {
      "cell_type": "code",
      "execution_count": null,
      "id": "7a067c86",
      "metadata": {},
      "outputs": [],
      "source": [
        "import datetime\n",
        "\n",
        "import numpy as np\n",
        "import pandas as pd\n",
        "import matplotlib.pyplot as plt\n",
        "\n",
        "from fds.models.orbit_extrapolation.requests import OemRequest, EphemeridesRequest\n",
        "from fds.models.orbit_extrapolation.use_case import OrbitExtrapolation\n",
        "from fds.models.orbital_state import PropagationContext, CovarianceMatrix, OrbitalState\n",
        "from fds.models.spacecraft import Battery, SolarArray, ThrusterElectrical, SpacecraftBox\n",
        "from fds.models.two_line_element import TwoLineElement\n",
        "from fds.utils.frames import Frame\n",
        "from fds.utils.plotting import add_grid"
      ]
    },
    {
      "cell_type": "markdown",
      "id": "112c47aa",
      "metadata": {},
      "source": [
        "*Note*: If you are using this notebook locally, use the following methods to configure your credentials:"
      ]
    },
    {
      "cell_type": "markdown",
      "id": "158adb70",
      "metadata": {},
      "source": [
        "```python\n",
        "from fds.config import set_client_id, set_client_secret\n",
        "set_client_id('CLIENT_ID')\n",
        "set_client_secret('CLIENT_SECRET')\n",
        "```"
      ]
    },
    {
      "cell_type": "markdown",
      "id": "95c64437",
      "metadata": {},
      "source": [
        "## Create models"
      ]
    },
    {
      "cell_type": "markdown",
      "id": "166269fb",
      "metadata": {},
      "source": [
        "### Create Orbital State\n",
        "`OrbitalState` is the object used in spacetower to group information on the initial orbit, the propagation context and the spacecraft definition.  "
      ]
    },
    {
      "cell_type": "markdown",
      "id": "01401edd",
      "metadata": {},
      "source": [
        "#### TLE"
      ]
    },
    {
      "cell_type": "markdown",
      "id": "733dc109",
      "metadata": {},
      "source": [
        "The TLE provides the orbital parameters needed for accurate satellite tracking and prediction."
      ]
    },
    {
      "cell_type": "code",
      "execution_count": null,
      "id": "81f1230e",
      "metadata": {},
      "outputs": [],
      "source": [
        "tle = TwoLineElement(\n",
        "    \"1 25544U 98067A   24142.35003124  .00022843  00000-0  38371-3 0  9995\",\n",
        "    \"2 25544  51.6390  88.3709 0003333 191.4959 306.2513 15.51667899454382\"\n",
        "    )\n",
        "\n",
        "print(f\"TLE date (UTC): {tle.date}\")"
      ]
    },
    {
      "cell_type": "markdown",
      "id": "bf586bd9",
      "metadata": {},
      "source": [
        "#### Propagation Context"
      ]
    },
    {
      "cell_type": "markdown",
      "id": "842fb592",
      "metadata": {},
      "source": [
        "The `PropagationContext` object encapsulates the settings necessary to accurately propagate the satellite's orbit by accounting for gravitational and non-gravitational perturbations. Adjusting these parameters allows for fine-tuning the balance between computational efficiency and the accuracy of the simulation."
      ]
    },
    {
      "cell_type": "code",
      "execution_count": null,
      "id": "c76a0a7b",
      "metadata": {},
      "outputs": [],
      "source": [
        "propagation_context = PropagationContext(\n",
        "    model_perturbations=[\n",
        "        PropagationContext.Perturbation.DRAG,\n",
        "        PropagationContext.Perturbation.EARTH_POTENTIAL,\n",
        "        PropagationContext.Perturbation.SRP,\n",
        "        PropagationContext.Perturbation.THIRD_BODY,\n",
        "    ],\n",
        "    model_solar_flux=150,  # SFU\n",
        "    model_earth_potential_deg=30,\n",
        "    model_earth_potential_ord=30,\n",
        "    model_atmosphere_kind=PropagationContext.AtmosphereModel.HARRIS_PRIESTER,\n",
        "    integrator_kind=PropagationContext.IntegratorKind.DORMAND_PRINCE_853,\n",
        "    integrator_min_step=0.01,  # s\n",
        "    integrator_max_step=100,  # s\n",
        ")"
      ]
    },
    {
      "cell_type": "markdown",
      "id": "e67ef346",
      "metadata": {},
      "source": [
        "#### Spacecraft"
      ]
    },
    {
      "cell_type": "markdown",
      "id": "603b84b7",
      "metadata": {},
      "source": [
        "Here we are using the `SpacecraftBox` class to define our spacecraft.  \n",
        "To define a simpler model, try using the `SpacecraftSphere` class where battery, solar-arrays and thrusters do not need to be defined."
      ]
    },
    {
      "cell_type": "code",
      "execution_count": null,
      "id": "348951c9",
      "metadata": {},
      "outputs": [],
      "source": [
        "battery = Battery(\n",
        "    depth_of_discharge=0.3,  # 0<x<1\n",
        "    nominal_capacity=560,  # W\n",
        "    minimum_charge_for_firing=0.9,  # 0<x<1\n",
        "    initial_charge=1,  # 0<x<1\n",
        ")\n",
        "\n",
        "solar_array = SolarArray(\n",
        "    kind=\"DEPLOYABLE_FIXED\",\n",
        "    initialisation_kind=SolarArray.InitialisationKind.MAXIMUM_POWER,\n",
        "    efficiency=.293,  # 0<x<1\n",
        "    normal_in_satellite_frame=(0, 0, -1),  # Unit vector\n",
        "    maximum_power=300,  # W\n",
        "    surface=0.75,  # m^2\n",
        ")\n",
        "\n",
        "electrical_thruster = ThrusterElectrical(\n",
        "    isp=950,  # s\n",
        "    thrust=0.005,  # N\n",
        "    axis_in_satellite_frame=(-1, 0, 0),  # Unit vector\n",
        "    propellant_mass=4,  # kg\n",
        "    wet_mass=11,  # kg\n",
        "    warm_up_duration=240,  # s\n",
        "    maximum_thrust_duration=1200,  # s\n",
        "    impulse=37265.27,  # Ns\n",
        "    power=300,  # W\n",
        "    stand_by_power=1.1,  # W\n",
        "    warm_up_power=50,  # W\n",
        ")\n",
        "\n",
        "spacecraft = SpacecraftBox(\n",
        "    battery=battery,\n",
        "    thruster=electrical_thruster,\n",
        "    solar_array=solar_array,\n",
        "    platform_mass=112,  # kg\n",
        "    drag_coefficient=2.2,\n",
        "    length_x=.5,  # m\n",
        "    length_y=.5,  # m\n",
        "    length_z=.5,  # m\n",
        "    max_angular_velocity=2,  # deg/s\n",
        "    max_angular_acceleration=.5,  # deg/s^2\n",
        ")"
      ]
    },
    {
      "cell_type": "markdown",
      "id": "f6e73239",
      "metadata": {},
      "source": [
        "#### Covariance"
      ]
    },
    {
      "cell_type": "markdown",
      "id": "d6630797",
      "metadata": {},
      "source": [
        "The initial state covariance matrix represents the uncertainty in the spacecraft's initial position and velocity. It quantifies how precise the initial estimates are, with larger values indicating greater uncertainty"
      ]
    },
    {
      "cell_type": "code",
      "execution_count": null,
      "id": "a74306e8",
      "metadata": {},
      "outputs": [],
      "source": [
        "covariance = CovarianceMatrix.from_diagonal(\n",
        "    diagonal=(100, 100, 100, 0.1, 0.1, 0.1),\n",
        "    frame=Frame.TNW\n",
        ")"
      ]
    },
    {
      "cell_type": "markdown",
      "id": "f7064b32",
      "metadata": {},
      "source": [
        "#### Orbital State"
      ]
    },
    {
      "cell_type": "markdown",
      "id": "9c895f04",
      "metadata": {},
      "source": [
        "Initiate the `OrbitalState` object with the TLE, the propagation context, the spacecraft, and the covariance matrix."
      ]
    },
    {
      "cell_type": "code",
      "execution_count": null,
      "id": "10b1a2ad-f37c-4223-942b-141926d7448a",
      "metadata": {},
      "outputs": [],
      "source": [
        "orbital_state = OrbitalState.from_tle(\n",
        "    tle=tle,\n",
        "    covariance_matrix=covariance,\n",
        "    propagation_context=propagation_context,\n",
        "    spacecraft=spacecraft,\n",
        ")"
      ]
    },
    {
      "cell_type": "markdown",
      "id": "bf3242d0",
      "metadata": {},
      "source": [
        "### Create Ephermeris Generation Configuration\n",
        "In this section, we set up the parameters for generating ephemeris data. We create an Orbit Data Message request and define the Ephemerides Request parameters to determine the type of ephemeris data (Keplerian) and its generation interval."
      ]
    },
    {
      "cell_type": "code",
      "execution_count": null,
      "id": "a874790c",
      "metadata": {},
      "outputs": [],
      "source": [
        "# Orbit Data Message request\n",
        "oem_request = OemRequest(\n",
        "    creator=\"User\",\n",
        "    object_id=\"25544\",\n",
        "    object_name=\"ISS\",\n",
        "    frame=Frame.EME2000,\n",
        "    write_acceleration=False,\n",
        "    write_covariance=True,\n",
        "    ephemerides_step=60,\n",
        ")\n",
        "\n",
        "ephemerides_request = EphemeridesRequest(\n",
        "    ephemeris_types=[EphemeridesRequest.EphemerisType.KEPLERIAN],\n",
        "    step=200,\n",
        ")"
      ]
    },
    {
      "cell_type": "markdown",
      "id": "a076fa18",
      "metadata": {},
      "source": [
        "## Build & Run Use Case"
      ]
    },
    {
      "cell_type": "code",
      "execution_count": null,
      "id": "b6799fed",
      "metadata": {},
      "outputs": [],
      "source": [
        "oe = OrbitExtrapolation.with_target_date(\n",
        "    target_date=orbital_state.date + datetime.timedelta(seconds=orbital_state.mean_orbit.keplerian_period * 3),\n",
        "    initial_orbital_state=orbital_state,\n",
        "    orbit_data_message_request=oem_request,\n",
        "    ephemerides_request=ephemerides_request,\n",
        "    extrapolate_covariance=True\n",
        ")\n",
        "print(\"Propagation of approximately 3 orbits since the TLE date\")\n",
        "print(f\"Start date: {oe.initial_date}\")\n",
        "print(f\"End date: {oe.final_date}\")\n",
        "print(f\"Duration: {format(oe.duration / 3600., '.3f')} hours\")\n",
        "\n",
        "# Run the orbit extrapolation\n",
        "oe.run()"
      ]
    },
    {
      "cell_type": "markdown",
      "id": "b099630c",
      "metadata": {},
      "source": [
        "## Results/Post-Processing"
      ]
    },
    {
      "cell_type": "markdown",
      "id": "b1ea3d84",
      "metadata": {},
      "source": [
        "### Plot Results"
      ]
    },
    {
      "cell_type": "markdown",
      "id": "359d98fb",
      "metadata": {},
      "source": [
        "#### Osculating Keplerian Elements"
      ]
    },
    {
      "cell_type": "code",
      "execution_count": null,
      "id": "48e5636c",
      "metadata": {},
      "outputs": [],
      "source": [
        "ephemerides = oe.result.export_keplerian_ephemeris()\n",
        "eph_df = pd.DataFrame(ephemerides)\n",
        "\n",
        "# plot\n",
        "fig, axs = plt.subplots(3, 1, figsize=(10, 10), sharex=True)\n",
        "\n",
        "axs[0].plot(eph_df['date'], eph_df['semi_major_axis'], color='tab:blue')\n",
        "axs[0].set_ylabel('Semi-major axis [km]')\n",
        "\n",
        "axs[1].plot(eph_df['date'], eph_df['eccentricity'], color='tab:orange')\n",
        "axs[1].set_ylabel('Eccentricity')\n",
        "\n",
        "axs[2].plot(eph_df['date'], eph_df['inclination'], color='tab:green')\n",
        "axs[2].set_ylabel('Inclination [deg]')\n",
        "\n",
        "for ax in axs:\n",
        "    add_grid(ax)\n",
        "\n",
        "fig.autofmt_xdate()\n",
        "fig.align_ylabels()\n",
        "fig.suptitle('Osculating Keplerian elements')\n",
        "fig.tight_layout()\n",
        "plt.show()"
      ]
    },
    {
      "cell_type": "markdown",
      "id": "83a874a5",
      "metadata": {},
      "source": [
        "### Print CCSDS Orbit Ephemeris Message\n",
        "Position-velocity ephemeris in inertial frame"
      ]
    },
    {
      "cell_type": "code",
      "execution_count": null,
      "id": "88b2cd44",
      "metadata": {},
      "outputs": [],
      "source": [
        "print(oe.result.orbit_data_message)"
      ]
    }
  ],
  "metadata": {
    "kernelspec": {
      "display_name": "Python 3 (ipykernel)",
      "language": "python",
      "name": "python3"
    },
    "language_info": {
      "codemirror_mode": {
        "name": "ipython",
        "version": 3
      },
      "file_extension": ".py",
      "mimetype": "text/x-python",
      "name": "python",
      "nbconvert_exporter": "python",
      "pygments_lexer": "ipython3",
      "version": "3.11.3"
    }
  },
  "nbformat": 4,
  "nbformat_minor": 5
}
