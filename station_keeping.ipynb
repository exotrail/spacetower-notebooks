{
  "cells": [
    {
      "cell_type": "markdown",
      "id": "dc2f3a1e",
      "metadata": {},
      "source": [
        "# Station Keeping example\n",
        "##### Keeping a satellite on its precise path involves executing precise station-keeping maneuvers. In this notebook you'll learn to set up the orbital state, configure a station-keeping strategy, and generate ephemerides.\n",
        "\n",
        "*To run this example, make sure to have installed the lateste version of the spacetower-python-sdk (1.2.0).*"
      ]
    },
    {
      "cell_type": "markdown",
      "metadata": {},
      "source": [
        "\n",
        "## Jupyter Notebook Help Guide\n",
        "Welcome to your Jupyter Notebook! If you need assistance or more information about any function, method, or object, the contextual help window is a valuable tool.\n",
        "\n",
        "***Important - To have access to contextual help, start by running the [Imports](#imports) section below***\n",
        "\n",
        "![Run Notebook](https://portal.exotrail.space/images/products/notebooks/execute_workflow.jpg)\n"
      ]
    },
    {
      "cell_type": "markdown",
      "metadata": {},
      "source": [
        "### How to Open the Contextual Help Window\n"
      ]
    },
    {
      "cell_type": "markdown",
      "metadata": {},
      "source": [
        "1. **Use the Help Menu**:\n",
        "   - Navigate to the top menu bar and click on `Help`. From the dropdown menu, select `Show Contextual Help`.\n",
        "2. **Keyboard Shortcut**:\n",
        "   - Press `Shift + Tab` while your cursor is over the code you want more information on. For a more detailed view, press `Shift + Tab` twice.\n",
        "3. **Using the Inspector**:\n",
        "   - Type `?` followed by the function or object name and run the cell. For example, `?print`.\n",
        "   - To see the full documentation, use `??` instead, e.g., `??print`.\n"
      ]
    },
    {
      "cell_type": "markdown",
      "metadata": {},
      "source": [
        "### Tips for Using the Contextual Help\n"
      ]
    },
    {
      "cell_type": "markdown",
      "metadata": {},
      "source": [
        "- **Inline Help**: Single press `Shift + Tab` to get a brief pop-up of the docstring.\n",
        "- **Expanded Help**: Double press `Shift + Tab` or click the expand icon in the pop-up to open the full documentation in the help pane.\n",
        "- **Persistent Help Pane**: Use the Help menu or `Shift + Tab` twice to dock the help pane on the right side of the screen, where it can stay open as you work.\n",
        "This feature can help you understand function parameters, return types, and see example usages directly in your notebook. Happy coding!"
      ]
    },
    {
      "cell_type": "markdown",
      "id": "8a23ae73",
      "metadata": {},
      "source": [
        "## Imports"
      ]
    },
    {
      "cell_type": "code",
      "execution_count": null,
      "id": "09682d37-f99f-4d94-91f6-a47c80b2b5fe",
      "metadata": {
        "scrolled": true
      },
      "outputs": [],
      "source": [
        "from datetime import datetime, UTC, timedelta\n",
        "import pandas as pd\n",
        "\n",
        "import numpy as np\n",
        "\n",
        "import matplotlib.pyplot as plt\n",
        "from matplotlib.patches import Rectangle\n",
        "\n",
        "from fds.constants import EARTH_RADIUS\n",
        "from fds.models.actions import ActionFiring\n",
        "from fds.models.orbital_state import PropagationContext, OrbitalState\n",
        "from fds.models.orbits import KeplerianOrbit, OrbitMeanOsculatingType, PositionAngleType\n",
        "from fds.models.spacecraft import SpacecraftBox, ThrusterElectrical, Battery, SolarArray\n",
        "from fds.models.station_keeping.requests import EphemeridesRequest, SpacecraftStatesRequest\n",
        "from fds.models.station_keeping.strategy import StationKeepingStrategy\n",
        "from fds.models.station_keeping.tolerance import SemiMajorAxisTolerance\n",
        "from fds.models.station_keeping.use_case import LeoStationKeeping\n",
        "from fds.utils.plotting import add_grid"
      ]
    },
    {
      "cell_type": "markdown",
      "id": "0b1948b8",
      "metadata": {},
      "source": [
        "*Note*: If you are using this notebook locally, use the following methods to configure your credentials:"
      ]
    },
    {
      "cell_type": "markdown",
      "id": "7a067c86",
      "metadata": {},
      "source": [
        "```python\n",
        "from fds.config import set_client_id, set_client_secret\n",
        "set_client_id('CLIENT_ID')\n",
        "set_client_secret('CLIENT_SECRET')\n",
        "```"
      ]
    },
    {
      "cell_type": "markdown",
      "id": "95c64437",
      "metadata": {},
      "source": [
        "## Create models"
      ]
    },
    {
      "cell_type": "markdown",
      "id": "098cc35a",
      "metadata": {},
      "source": [
        "### Create Orbital State\n",
        "`OrbitalState` is the object used in spacetower to group information on the initial orbit and covariance, the propagation context and the spacecraft definition.  \n"
      ]
    },
    {
      "cell_type": "markdown",
      "id": "673b95cd",
      "metadata": {},
      "source": [
        "#### Orbit"
      ]
    },
    {
      "cell_type": "code",
      "execution_count": null,
      "id": "10b1a2ad-f37c-4223-942b-141926d7448a",
      "metadata": {},
      "outputs": [],
      "source": [
        "orbit = KeplerianOrbit(\n",
        "    semi_major_axis=EARTH_RADIUS * 1e-3 + 500,\n",
        "    anomaly=0,\n",
        "    argument_of_perigee=0,\n",
        "    eccentricity=1e-3,\n",
        "    inclination=98,\n",
        "    raan=90,\n",
        "    kind=OrbitMeanOsculatingType.MEAN,\n",
        "    anomaly_kind=PositionAngleType.TRUE,\n",
        "    date=datetime(2024, 6, 1, tzinfo=UTC)\n",
        ")"
      ]
    },
    {
      "cell_type": "markdown",
      "id": "1ecfb3df",
      "metadata": {},
      "source": [
        "#### Propagation Context"
      ]
    },
    {
      "cell_type": "markdown",
      "id": "f803ec38",
      "metadata": {},
      "source": [
        "The `PropagationContext` object encapsulates the settings necessary to accurately propagate the satellite's orbit by accounting for gravitational and non-gravitational perturbations. Adjusting these parameters allows for fine-tuning the balance between computational efficiency and the accuracy of the simulation."
      ]
    },
    {
      "cell_type": "code",
      "execution_count": null,
      "id": "f43be803",
      "metadata": {},
      "outputs": [],
      "source": [
        "propagation_context = PropagationContext(\n",
        "    model_perturbations=[\n",
        "        PropagationContext.Perturbation.DRAG,\n",
        "        PropagationContext.Perturbation.EARTH_POTENTIAL,\n",
        "    ],\n",
        "    model_solar_flux=160,  # SFU\n",
        "    model_earth_potential_deg=8,\n",
        "    model_earth_potential_ord=8,\n",
        "    model_atmosphere_kind=PropagationContext.AtmosphereModel.HARRIS_PRIESTER,\n",
        "    integrator_kind=PropagationContext.IntegratorKind.DORMAND_PRINCE_853,\n",
        "    integrator_min_step=0.01,  # s\n",
        "    integrator_max_step=100,  # s\n",
        ")"
      ]
    },
    {
      "cell_type": "markdown",
      "id": "70980d76",
      "metadata": {},
      "source": [
        "#### Spacecraft"
      ]
    },
    {
      "cell_type": "markdown",
      "id": "25974a9b",
      "metadata": {},
      "source": [
        "Here we are using the `SpacecraftBox` class to define our spacecraft.  \n",
        "To define a simpler model, try using the `SpacecraftSphere` class where battery, solar-arrays and thrusters do not need to be defined."
      ]
    },
    {
      "cell_type": "code",
      "execution_count": null,
      "id": "6cfafe8f",
      "metadata": {},
      "outputs": [],
      "source": [
        "battery = Battery(\n",
        "    depth_of_discharge=0.1,  # 0<x<1\n",
        "    nominal_capacity=200,  # W\n",
        "    minimum_charge_for_firing=0.99,  # 0<x<1\n",
        "    initial_charge=1,  # 0<x<1\n",
        ")\n",
        "\n",
        "solar_array = SolarArray(\n",
        "    efficiency=0.3,\n",
        "    kind=SolarArray.Kind.DEPLOYABLE_FIXED,\n",
        "    initialisation_kind=SolarArray.InitialisationKind.SURFACE,\n",
        "    surface=0.5,\n",
        "    normal_in_satellite_frame=(0.0, -1.0, 0.0),\n",
        ")\n",
        "\n",
        "electrical_thruster = ThrusterElectrical(\n",
        "    isp=2500,  # s\n",
        "    thrust=0.0005,  # N\n",
        "    axis_in_satellite_frame=(0, 0, -1),  # Unit vector\n",
        "    propellant_mass=1.0,  # kg\n",
        "    wet_mass=3.0,  # kg\n",
        "    warm_up_duration=0,  # s\n",
        "    maximum_thrust_duration=2000,  # s\n",
        "    impulse=40000.0,  # Ns\n",
        "    power=50,  # W\n",
        "    stand_by_power=10,  # W\n",
        "    warm_up_power=0,  # W\n",
        ")\n",
        "\n",
        "spacecraft = SpacecraftBox(\n",
        "    battery=battery,\n",
        "    thruster=electrical_thruster,\n",
        "    solar_array=solar_array,\n",
        "    platform_mass=100,  # kg\n",
        "    drag_coefficient=2.2,\n",
        "    reflectivity_coefficient=0.5,\n",
        "    length_x=.5,  # m\n",
        "    length_y=.5,  # m\n",
        "    length_z=.5,  # m\n",
        "    max_angular_velocity=1,  # deg/s\n",
        "    max_angular_acceleration=.1,  # deg/s^2\n",
        ")"
      ]
    },
    {
      "cell_type": "markdown",
      "id": "baecdfab",
      "metadata": {},
      "source": [
        "#### Orbital State"
      ]
    },
    {
      "cell_type": "markdown",
      "id": "89d647fa",
      "metadata": {},
      "source": [
        "Initiate the `OrbitalState` object with the orbit, the propagation context and the spacecraft."
      ]
    },
    {
      "cell_type": "code",
      "execution_count": null,
      "id": "3f7aaf71",
      "metadata": {},
      "outputs": [],
      "source": [
        "orbital_state = OrbitalState.from_orbit(\n",
        "    orbit=orbit,\n",
        "    propagation_context=propagation_context,\n",
        "    spacecraft=spacecraft,\n",
        ")"
      ]
    },
    {
      "cell_type": "markdown",
      "id": "d1f4d1f4",
      "metadata": {},
      "source": [
        "### Create Station Keeping Strategy\n",
        "In this section, we define the station-keeping strategy for the satellite. This includes specifying the positions, number, and duration of thrust arcs, as well as the timing of thrust and rest orbits. These parameters ensure effective station-keeping maneuvers to maintain the satellite's desired orbit."
      ]
    },
    {
      "cell_type": "code",
      "execution_count": null,
      "id": "bb4284ca",
      "metadata": {},
      "outputs": [],
      "source": [
        "strategy = StationKeepingStrategy(\n",
        "    thrust_arcs_position=StationKeepingStrategy.ThrustArcPosition.ASCENDING_AND_DESCENDING_ANTINODES,\n",
        "    thrust_arcs_number=StationKeepingStrategy.ThrustArcNumber.TWO,\n",
        "    number_of_thrust_orbits=1,\n",
        "    number_of_rest_orbits=1,\n",
        "    number_of_shift_orbits=0,\n",
        "    stop_thrust_at_eclipse=False,\n",
        "    thrust_arc_initialisation_kind=StationKeepingStrategy.ThrustArcInitialisationKind.THRUST_DURATION,\n",
        "    thrust_arc_duration=800,  # [s]\n",
        ")"
      ]
    },
    {
      "attachments": {
        "image.png": {
          "image/png": "[encoded data removed]"
        }
      },
      "cell_type": "markdown",
      "id": "38806aa7",
      "metadata": {},
      "source": [
        "![image.png](attachment:image.png)"
      ]
    },
    {
      "cell_type": "markdown",
      "id": "b0dce0f2",
      "metadata": {},
      "source": [
        "### Create Output Ephemerides Request\n",
        "Here we set up the parameters for generating output ephemerides. We define the time step, specify the types of ephemerides data (Keplerian elements and power system information), and configure the spacecraft states to include mean elements."
      ]
    },
    {
      "cell_type": "code",
      "execution_count": null,
      "id": "a94ae184",
      "metadata": {},
      "outputs": [],
      "source": [
        "\n",
        "ephemerides_request = EphemeridesRequest(\n",
        "    timestep=60.0,\n",
        "    types=[EphemeridesRequest.EphemeridesType.KEPLERIAN, EphemeridesRequest.EphemeridesType.POWER_SYSTEM],\n",
        "    mean=True,\n",
        "    osculating=False\n",
        ")\n",
        "\n",
        "states_request = SpacecraftStatesRequest(mean=False, osculating=True)"
      ]
    },
    {
      "cell_type": "markdown",
      "id": "c2bf53ac",
      "metadata": {},
      "source": [
        "### Create semi-major axis tolerance\n",
        "This defines the allowable variation in the semi-major axis during station-keeping maneuvers"
      ]
    },
    {
      "cell_type": "code",
      "execution_count": null,
      "id": "14ef6ba1",
      "metadata": {},
      "outputs": [],
      "source": [
        "tolerance = SemiMajorAxisTolerance(0.4)"
      ]
    },
    {
      "cell_type": "markdown",
      "id": "4da20828",
      "metadata": {},
      "source": [
        "## Build & Run Use Case"
      ]
    },
    {
      "cell_type": "code",
      "execution_count": null,
      "id": "b6799fed",
      "metadata": {},
      "outputs": [],
      "source": [
        "sk = LeoStationKeeping.from_initial_orbital_state(\n",
        "    initial_orbital_state=orbital_state,\n",
        "    maximum_duration=86400 * 45,\n",
        "    tolerance=tolerance,\n",
        "    output_requests=[ephemerides_request, states_request],\n",
        "    strategy=strategy,\n",
        "    average_available_on_board_power=50,\n",
        "    simulate_attitude_and_power_system=True\n",
        ")\n",
        "\n",
        "# Run the station keeping\n",
        "sk.run()"
      ]
    },
    {
      "cell_type": "markdown",
      "id": "9c0b346f",
      "metadata": {},
      "source": [
        "## Post-processing"
      ]
    },
    {
      "cell_type": "markdown",
      "id": "57e4d794",
      "metadata": {},
      "source": [
        "### Define Post-Processing Functions\n",
        "Define auxiliary functions used to plot the results"
      ]
    },
    {
      "cell_type": "code",
      "execution_count": null,
      "id": "d1a8755b",
      "metadata": {},
      "outputs": [],
      "source": [
        "def draw_rectangles(_ax, start_dates, end_dates):\n",
        "    if start_dates is None or end_dates is None or len(start_dates) == 0 or len(end_dates) == 0:\n",
        "        return\n",
        "    # get plot lims\n",
        "    ymin, ymax = _ax.get_ylim()\n",
        "\n",
        "    for start, end in zip(start_dates, end_dates):\n",
        "        _ax.add_patch(Rectangle((start, ymin), end - start, ymax-ymin, color='red', alpha=0.2))\n",
        "\n",
        "    # add a fake rectangle to the legend\n",
        "    _ax.add_patch(Rectangle((0, 0), 0, 0, color='red', alpha=0.3, label=\"Firings\"))"
      ]
    },
    {
      "cell_type": "markdown",
      "id": "08e20eb2",
      "metadata": {},
      "source": [
        "### Extract results"
      ]
    },
    {
      "cell_type": "code",
      "execution_count": null,
      "id": "a47ae3db",
      "metadata": {},
      "outputs": [],
      "source": [
        "roadmap = sk.result.generate_maneuver_roadmap()\n",
        "\n",
        "firing_start_dates = [f.firing_start_date for f in roadmap.actions if isinstance(f, ActionFiring)]\n",
        "firing_end_dates = [f.firing_end_date for f in roadmap.actions if isinstance(f, ActionFiring)]\n",
        "quaternions = roadmap.actions[0].quaternions\n",
        "dates = [q.date for q in quaternions]\n",
        "\n",
        "# Export keplerian data\n",
        "keplerian_data = sk.result.export_keplerian_ephemerides_data()\n",
        "df_kep = pd.DataFrame(keplerian_data)\n",
        "\n",
        "# Export power system data\n",
        "system_data = sk.result.export_power_system_ephemerides_data()\n"
      ]
    },
    {
      "cell_type": "markdown",
      "id": "32343065",
      "metadata": {},
      "source": [
        "### Plot Results"
      ]
    },
    {
      "cell_type": "markdown",
      "id": "bb3db863",
      "metadata": {},
      "source": [
        "#### Keplerian Mean Elements"
      ]
    },
    {
      "cell_type": "code",
      "execution_count": null,
      "id": "d455d86d",
      "metadata": {},
      "outputs": [],
      "source": [
        "fig, axs = plt.subplots(3, 1, sharex=True, figsize=(16, 9))\n",
        "\n",
        "axs[0].plot(df_kep['date'], df_kep['MeanSma'] - EARTH_RADIUS)\n",
        "axs[0].set_title(\"Mean Altitude\")\n",
        "axs[0].set_ylabel(\"[km]\")\n",
        "\n",
        "axs[1].plot(df_kep['date'], df_kep['MeanEcc'])\n",
        "axs[1].set_title(\"Mean Eccentricity\")\n",
        "axs[1].set_ylabel(\"[-]\")\n",
        "\n",
        "axs[2].plot(df_kep['date'], np.degrees(df_kep['MeanInc']))\n",
        "axs[2].set_title(\"Mean Inclination\")\n",
        "axs[2].set_ylabel(\"[deg]\")\n",
        "\n",
        "for ax in axs:\n",
        "    add_grid(ax)\n",
        "    draw_rectangles(ax, firing_start_dates, firing_end_dates)\n",
        "\n",
        "axs[0].legend(bbox_to_anchor=(1.05, 1), loc='upper left')\n",
        "axs[-1].set_xlabel(\"Date\")\n",
        "\n",
        "fig.autofmt_xdate()\n",
        "fig.align_ylabels()\n",
        "fig.tight_layout()\n",
        "plt.show()"
      ]
    },
    {
      "cell_type": "markdown",
      "id": "4711cf94",
      "metadata": {},
      "source": [
        "#### Quaternions"
      ]
    },
    {
      "cell_type": "code",
      "execution_count": null,
      "id": "e90e553c",
      "metadata": {},
      "outputs": [],
      "source": [
        "fig, axs = plt.subplots(4, 1, sharex=True, figsize=(16, 9))\n",
        "\n",
        "q_i, q_j, q_k, q_r = [], [], [], []\n",
        "for q in quaternions:\n",
        "    q_i.append(q.i)\n",
        "    q_j.append(q.j)\n",
        "    q_k.append(q.k)\n",
        "    q_r.append(q.real)\n",
        "\n",
        "axs[0].plot(dates, q_i)\n",
        "axs[0].set_ylabel(\"q_i\")\n",
        "axs[1].plot(dates, q_j)\n",
        "axs[1].set_ylabel(\"q_j\")\n",
        "axs[2].plot(dates, q_k)\n",
        "axs[2].set_ylabel(\"q_k\")\n",
        "axs[3].plot(dates, q_r)\n",
        "axs[3].set_ylabel(\"q_r\")\n",
        "\n",
        "for ax in axs:\n",
        "    add_grid(ax)\n",
        "    draw_rectangles(ax, firing_start_dates, firing_end_dates)\n",
        "    ax.set_xlim([firing_start_dates[0] - timedelta(hours=1), firing_start_dates[0] + timedelta(days=1)])\n",
        "\n",
        "axs[0].legend(bbox_to_anchor=(1.05, 1), loc='upper left')\n",
        "axs[-1].set_xlabel(\"Date\")\n",
        "\n",
        "fig.autofmt_xdate()\n",
        "fig.align_ylabels()\n",
        "fig.tight_layout()\n",
        "plt.show()\n"
      ]
    },
    {
      "cell_type": "markdown",
      "id": "6d5ccc54",
      "metadata": {},
      "source": [
        "#### System Data"
      ]
    },
    {
      "cell_type": "code",
      "execution_count": null,
      "id": "ddb7bf51",
      "metadata": {},
      "outputs": [],
      "source": [
        "if system_data is not None:\n",
        "    df = pd.DataFrame(system_data)\n",
        "\n",
        "    # Plot the battery charge\n",
        "    fig, axs = plt.subplots(4, 1, sharex=True, figsize=(16, 9))\n",
        "\n",
        "    axs[0].plot(df['date'], df['battery_charge'])\n",
        "    axs[0].set_title(\"Battery State\")\n",
        "    axs[0].set_ylabel(\"[-]\")\n",
        "\n",
        "    axs[1].plot(df['date'], df['solar_array_collected_power'])\n",
        "    axs[1].set_title(\"Power available for charging\")\n",
        "    axs[1].set_ylabel(\"[W]\")\n",
        "\n",
        "    axs[2].plot(df['date'], df['thruster_power_consumption'])\n",
        "    axs[2].set_title(\"Thruster Power Consumption\")\n",
        "    axs[2].set_ylabel(\"[W]\")\n",
        "\n",
        "    axs[3].plot(df['date'], df['thruster_warm_up_power_consumption'])\n",
        "    axs[3].set_title(\"Thruster Warmup Power Consumption\")\n",
        "    axs[3].set_ylabel(\"[W]\")\n",
        "\n",
        "    for a in axs:\n",
        "        add_grid(a)\n",
        "        draw_rectangles(a, firing_start_dates, firing_end_dates)\n",
        "        a.set_xlim([firing_start_dates[0] - timedelta(hours=1), firing_start_dates[0] + timedelta(days=1)])\n",
        "\n",
        "    axs[0].legend(bbox_to_anchor=(1.05, 1), loc='upper left')\n",
        "    axs[-1].set_xlabel(\"Date\")\n",
        "\n",
        "    fig.autofmt_xdate()\n",
        "    fig.align_ylabels()\n",
        "    fig.tight_layout()\n",
        "\n",
        "    plt.show()"
      ]
    },
    {
      "cell_type": "markdown",
      "id": "6d5a765d",
      "metadata": {},
      "source": [
        "### Print Report"
      ]
    },
    {
      "cell_type": "code",
      "execution_count": null,
      "id": "49652acd",
      "metadata": {},
      "outputs": [],
      "source": [
        "report = sk.result.report\n",
        "\n",
        "print(\"Station Keeping Report\")\n",
        "print(\"Total delta-v\", report.total_delta_v, \" m/s\")\n",
        "print(\"Thrust duration\", report.thrust_duration, \" s\")\n",
        "print(\"Number of burns\", report.number_of_burns)\n",
        "print(\"Simulation duration\", report.simulation_duration/86400, \" days\")\n",
        "print(\"Total consumption\", report.total_consumption, \" kg\")"
      ]
    }
  ],
  "metadata": {
    "kernelspec": {
      "display_name": "Python 3 (ipykernel)",
      "language": "python",
      "name": "python3"
    },
    "language_info": {
      "codemirror_mode": {
        "name": "ipython",
        "version": 3
      },
      "file_extension": ".py",
      "mimetype": "text/x-python",
      "name": "python",
      "nbconvert_exporter": "python",
      "pygments_lexer": "ipython3",
      "version": "3.11.3"
    }
  },
  "nbformat": 4,
  "nbformat_minor": 5
}
