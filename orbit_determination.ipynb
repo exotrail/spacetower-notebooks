{
  "cells": [
    {
      "cell_type": "markdown",
      "id": "639da848",
      "metadata": {},
      "source": [
        "# Orbit Determination\n",
        "##### Accurately determining the position and velocity of a satellite, as well as estimating the drag coefficient, is critical for maintaining precise orbital predictions. This notebook demonstrates the use of an Unscented Kalman Filter (UKF) to estimate these parameters from GPS NMEA measurements. By following this guide, you will be able to set up the necessary models, configure the UKF, and visualize the results to ensure the satellite remains on its predicted path."
      ]
    },
    {
      "cell_type": "markdown",
      "id": "113ef95f",
      "metadata": {},
      "source": [
        "## Jupyter Notebook Help Guide\n",
        "Welcome to your Jupyter Notebook! If you need assistance or more information about any function, method, or object, the contextual help window is a valuable tool.\n",
        "\n",
        "***Important - To have access to contextual help, start by running the [Imports](#imports) section below***\n",
        "\n",
        "![Run Notebook](https://portal.exotrail.space/images/products/notebooks/execute_workflow.jpg)\n"
      ]
    },
    {
      "cell_type": "markdown",
      "id": "8b2a763a",
      "metadata": {},
      "source": [
        "### How to Open the Contextual Help Window\n"
      ]
    },
    {
      "cell_type": "markdown",
      "id": "e6cc3f70",
      "metadata": {},
      "source": [
        "1. **Use the Help Menu**:\n",
        "   - Navigate to the top menu bar and click on `Help`. From the dropdown menu, select `Show Contextual Help`.\n",
        "2. **Keyboard Shortcut**:\n",
        "   - Press `Shift + Tab` while your cursor is over the code you want more information on. For a more detailed view, press `Shift + Tab` twice.\n",
        "3. **Using the Inspector**:\n",
        "   - Type `?` followed by the function or object name and run the cell. For example, `?print`.\n",
        "   - To see the full documentation, use `??` instead, e.g., `??print`.\n"
      ]
    },
    {
      "cell_type": "markdown",
      "id": "1be6cf34",
      "metadata": {},
      "source": [
        "### Tips for Using the Contextual Help\n"
      ]
    },
    {
      "cell_type": "markdown",
      "id": "f748fa35",
      "metadata": {},
      "source": [
        "- **Inline Help**: Single press `Shift + Tab` to get a brief pop-up of the docstring.\n",
        "- **Expanded Help**: Double press `Shift + Tab` or click the expand icon in the pop-up to open the full documentation in the help pane.\n",
        "- **Persistent Help Pane**: Use the Help menu or `Shift + Tab` twice to dock the help pane on the right side of the screen, where it can stay open as you work.\n",
        "This feature can help you understand function parameters, return types, and see example usages directly in your notebook. Happy coding!"
      ]
    },
    {
      "cell_type": "markdown",
      "id": "1993ac5e",
      "metadata": {},
      "source": [
        "## Imports"
      ]
    },
    {
      "cell_type": "code",
      "execution_count": null,
      "id": "8ad1c505-0211-43f6-aa7e-700851053f3a",
      "metadata": {
        "scrolled": true
      },
      "outputs": [],
      "source": [
        "from datetime import datetime\n",
        "\n",
        "import matplotlib.pyplot as plt\n",
        "import pandas as pd\n",
        "\n",
        "from fds.models.determination.configuration import OrbitDeterminationConfiguration\n",
        "from fds.models.determination.requests import DragCoefficientEstimationRequest\n",
        "from fds.models.determination.use_case import OrbitDetermination\n",
        "from fds.models.orbital_state import PropagationContext, CovarianceMatrix, OrbitalState\n",
        "from fds.models.spacecraft import SpacecraftSphere\n",
        "from fds.models.telemetry import TelemetryGpsNmea\n",
        "from fds.models.two_line_element import TwoLineElement\n",
        "from fds.utils.frames import Frame\n",
        "from fds.utils.plotting import add_grid"
      ]
    },
    {
      "cell_type": "markdown",
      "id": "953aec4b",
      "metadata": {},
      "source": [
        "*Note*: If you are using this notebook locally, use the following methods to configure your credentials:"
      ]
    },
    {
      "cell_type": "markdown",
      "id": "26cac977",
      "metadata": {},
      "source": [
        "```python\n",
        "from fds.config import set_client_id, set_client_secret\n",
        "set_client_id('CLIENT_ID')\n",
        "set_client_secret('CLIENT_SECRET')\n",
        "```"
      ]
    },
    {
      "cell_type": "markdown",
      "id": "8072bf57",
      "metadata": {},
      "source": [
        "## Create Models"
      ]
    },
    {
      "cell_type": "markdown",
      "id": "bc249ae4",
      "metadata": {},
      "source": [
        "### Create Orbital State\n",
        "`OrbitalState` is the object used in spacetower to group information on the initial orbit and covariance, the propagation context and the spacecraft definition.  \n"
      ]
    },
    {
      "cell_type": "markdown",
      "id": "78d5cbe1",
      "metadata": {},
      "source": [
        "#### TLE"
      ]
    },
    {
      "cell_type": "markdown",
      "id": "fca99d6a",
      "metadata": {},
      "source": [
        "The TLE provides the orbital parameters needed for accurate satellite tracking and prediction."
      ]
    },
    {
      "cell_type": "code",
      "execution_count": null,
      "id": "18f06250",
      "metadata": {},
      "outputs": [],
      "source": [
        "tle = TwoLineElement(\n",
        "    \"1 25544U 98067A   24142.35003124  .00022843  00000-0  38371-3 0  9995\",\n",
        "    \"2 25544  51.6390  88.3709 0003333 191.4959 306.2513 15.51667899454382\"\n",
        "    )\n",
        "\n",
        "print(f\"TLE date (UTC): {tle.date}\")"
      ]
    },
    {
      "cell_type": "markdown",
      "id": "dd2924eb",
      "metadata": {},
      "source": [
        "#### Propagation Context"
      ]
    },
    {
      "cell_type": "markdown",
      "id": "ed827500",
      "metadata": {},
      "source": [
        "The `PropagationContext` object encapsulates the settings necessary to accurately propagate the satellite's orbit by accounting for gravitational and non-gravitational perturbations. Adjusting these parameters allows for fine-tuning the balance between computational efficiency and the accuracy of the simulation."
      ]
    },
    {
      "cell_type": "code",
      "execution_count": null,
      "id": "76337464",
      "metadata": {},
      "outputs": [],
      "source": [
        "propagation_context = PropagationContext(\n",
        "    model_perturbations=[\n",
        "        PropagationContext.Perturbation.DRAG,\n",
        "        PropagationContext.Perturbation.EARTH_POTENTIAL,\n",
        "        PropagationContext.Perturbation.SRP,\n",
        "        PropagationContext.Perturbation.THIRD_BODY,\n",
        "    ],\n",
        "    model_solar_flux=150,  # SFU\n",
        "    model_earth_potential_deg=30,\n",
        "    model_earth_potential_ord=30,\n",
        "    model_atmosphere_kind=PropagationContext.AtmosphereModel.HARRIS_PRIESTER,\n",
        "    integrator_kind=PropagationContext.IntegratorKind.DORMAND_PRINCE_853,\n",
        "    integrator_min_step=0.01,  # s\n",
        "    integrator_max_step=100,  # s\n",
        ")"
      ]
    },
    {
      "cell_type": "markdown",
      "id": "0c84fc13",
      "metadata": {},
      "source": [
        "#### Spacecraft"
      ]
    },
    {
      "cell_type": "markdown",
      "id": "ecb31a96",
      "metadata": {},
      "source": [
        "Using the `SpacecraftSphere` class, we can define a simple spherical model.  \n",
        "You can use the `SpacecraftBox` class to define more complex shapes, where battery, solar-arrays and thrusters (eletric & chemical) can be defined. "
      ]
    },
    {
      "cell_type": "code",
      "execution_count": null,
      "id": "14bb3789",
      "metadata": {},
      "outputs": [],
      "source": [
        "spacecraft = SpacecraftSphere(\n",
        "    platform_mass=112,  # kg\n",
        "    drag_coefficient=2.2,\n",
        "    cross_section=0.785,\n",
        "    reflectivity_coefficient=0.6,\n",
        ")"
      ]
    },
    {
      "cell_type": "markdown",
      "id": "d44a332e",
      "metadata": {},
      "source": [
        "#### Covariance"
      ]
    },
    {
      "cell_type": "markdown",
      "id": "5ec8d30d",
      "metadata": {},
      "source": [
        "##### Initial state covariance matrix"
      ]
    },
    {
      "cell_type": "markdown",
      "id": "cae2cb3b",
      "metadata": {},
      "source": [
        "The initial state covariance matrix represents the uncertainty in the spacecraft's initial position and velocity. It quantifies how precise the initial estimates are, with larger values indicating greater uncertainty."
      ]
    },
    {
      "cell_type": "code",
      "execution_count": null,
      "id": "9b3374c5",
      "metadata": {},
      "outputs": [],
      "source": [
        "covariance = CovarianceMatrix.from_diagonal(\n",
        "    diagonal=(100, 100, 100, 0.1, 0.1, 0.1),\n",
        "    frame=Frame.TNW\n",
        ")"
      ]
    },
    {
      "cell_type": "markdown",
      "id": "a5c99a21",
      "metadata": {},
      "source": [
        "##### Process noise matrix"
      ]
    },
    {
      "cell_type": "markdown",
      "id": "adc25bca",
      "metadata": {},
      "source": [
        "The process noise matrix represents the variance of the position and velocity in a local orbital frame. It accounts for unmodeled forces and inaccuracies in the spacecraft's motion prediction, with larger values indicating greater uncertainty over time."
      ]
    },
    {
      "cell_type": "code",
      "execution_count": null,
      "id": "fbbc43ca",
      "metadata": {},
      "outputs": [],
      "source": [
        "process_noise_matrix = CovarianceMatrix.from_diagonal(\n",
        "    diagonal=(1E-1, 1E-1, 1E-1, 1E-4, 1E-4, 1E-4),\n",
        "    frame=Frame.TNW\n",
        ")"
      ]
    },
    {
      "cell_type": "markdown",
      "id": "ab71d5cd",
      "metadata": {},
      "source": [
        "#### Orbital State"
      ]
    },
    {
      "cell_type": "markdown",
      "id": "cd663f9a",
      "metadata": {},
      "source": [
        "Initiate the `OrbitalState` object with the TLE, the propagation context, the spacecraft, and the covariance matrix."
      ]
    },
    {
      "cell_type": "code",
      "execution_count": null,
      "id": "f6580cf1",
      "metadata": {},
      "outputs": [],
      "source": [
        "initial_orbital_state = OrbitalState.from_tle(\n",
        "    tle=tle,\n",
        "    covariance_matrix=covariance,\n",
        "    propagation_context=propagation_context,\n",
        "    spacecraft=spacecraft\n",
        ")"
      ]
    },
    {
      "cell_type": "markdown",
      "id": "e2446367",
      "metadata": {},
      "source": [
        "### Create Orbit Determination Configuration\n",
        "In this section we configure the Orbit Determination to use an Unscented Kalman Filter (UKF), including parameters for the sigma points spread and outliers management."
      ]
    },
    {
      "cell_type": "code",
      "execution_count": null,
      "id": "90f0c801",
      "metadata": {},
      "outputs": [],
      "source": [
        "od_config = OrbitDeterminationConfiguration(\n",
        "    tuning_alpha=0.5,  # Defines the spread of the sigma points. Typical values from 1E-4 to 1E-1.\n",
        "    tuning_beta=2,  # Beta = 2 is optimal for Gaussian distributions.\n",
        "    tuning_kappa=0,  # Defines the spread of the sigma points. Typical values range from 0 to 10.\n",
        "    outliers_manager_scale=10, # The number of standard deviations for outlier detection.\n",
        "    outliers_manager_warmup=0,  # The number of measurements that are processed without outlier rejection\n",
        "    noise_provider_kind=OrbitDeterminationConfiguration.NoiseProviderKind.BASIC, # The type of noise provider used. Basic: the covariance matrix increase is proportional to the measurement update interval.\n",
        "    process_noise_matrix=process_noise_matrix,\n",
        ")\n",
        "\n",
        "drag_estimation = DragCoefficientEstimationRequest(\n",
        "    standard_deviation=0.01,\n",
        "    process_noise_standard_deviation=1E-2,\n",
        ")"
      ]
    },
    {
      "cell_type": "markdown",
      "id": "a1b6858d",
      "metadata": {},
      "source": [
        "### Create NMEA measurements\n",
        "Define the GPS NMEA measurements, which include latitude, longitude, ground speed, and altitude, to be used in the orbit determination process. For more information on the GPS NMEA standard https://aprs.gids.nl/nmea/"
      ]
    },
    {
      "cell_type": "code",
      "execution_count": null,
      "id": "d9441775",
      "metadata": {},
      "outputs": [],
      "source": [
        "# Latitude [deg], longitude [deg], ground speed [km/s], altitude [m], geoid ondulation [m] (identically zero in this example)\n",
        "nmea_measurements = [[31.945420, -126.505682,  7367.186584,  412375.054104,  0.0],\n",
        "                     [29.240459, -123.511077,  7367.967736,  411821.061405,  0.0],\n",
        "                     [26.459760, -120.684592,  7368.693042,  411299.690655,  0.0],\n",
        "                     [23.614870, -118.003847,  7369.338715,  410835.315955,  0.0],\n",
        "                     [20.715957, -115.447822,  7369.897444,  410442.560347,  0.0],\n",
        "                     [17.772044, -112.997251,  7370.349873,  410156.920987,  0.0],\n",
        "                     [14.791415, -110.634067,  7370.681081,  409921.752804,  0.0],\n",
        "                     [11.781282, -108.341590,  7370.888166,  409812.978649,  0.0],\n",
        "                     [8.748428,  -106.104106,   7370.954765,  409828.677953, 0.0],\n",
        "                     [5.699253,  -103.906705,   7370.876706,  409916.755493, 0.0],\n",
        "                     [2.639727,  -101.735212,   7370.647704,  410136.202027, 0.0],\n",
        "                     [-0.424380,  -99.575730,  7370.267061,  410460.341200,  0.0],\n",
        "                     [-3.487369,  -97.414643,  7369.738987,  410901.281852,  0.0],\n",
        "                     [-6.543506,  -95.238211,  7369.066255,  411452.304177,  0.0],\n",
        "                     [-9.586998,  -93.032651,  7368.253201,  412118.385775,  0.0]]\n",
        "\n",
        "# UTC dates corresponding to the measurements\n",
        "dates_ts = [\"2024-05-21T08:24:02.699136\",\n",
        "            \"2024-05-21T08:25:02.699136\",\n",
        "            \"2024-05-21T08:26:02.699136\",\n",
        "            \"2024-05-21T08:27:02.699136\",\n",
        "            \"2024-05-21T08:28:02.699136\",\n",
        "            \"2024-05-21T08:29:02.699136\",\n",
        "            \"2024-05-21T08:30:02.699136\",\n",
        "            \"2024-05-21T08:31:02.699136\",\n",
        "            \"2024-05-21T08:32:02.699136\",\n",
        "            \"2024-05-21T08:33:02.699136\",\n",
        "            \"2024-05-21T08:34:02.699136\",\n",
        "            \"2024-05-21T08:35:02.699136\",\n",
        "            \"2024-05-21T08:36:02.699136\",\n",
        "            \"2024-05-21T08:37:02.699136\",\n",
        "            \"2024-05-21T08:38:02.699136\"]\n",
        "\n",
        "dates = [datetime.fromisoformat(ts).strftime(\"%Y-%m-%dT%H:%M:%S.%fZ\") for ts in dates_ts]\n",
        "\n",
        "telemetry_nmea = TelemetryGpsNmea(\n",
        "    measurements=nmea_measurements,\n",
        "    dates=dates,\n",
        "    standard_deviation_altitude=200,\n",
        "    standard_deviation_ground_speed=5,\n",
        "    standard_deviation_latitude=0.002,\n",
        "    standard_deviation_longitude=0.002\n",
        ")"
      ]
    },
    {
      "cell_type": "markdown",
      "id": "6a5605fa",
      "metadata": {},
      "source": [
        "## Build & Run Use Case"
      ]
    },
    {
      "cell_type": "code",
      "execution_count": null,
      "id": "a94bdd06",
      "metadata": {},
      "outputs": [],
      "source": [
        "od_tle = OrbitDetermination(\n",
        "    initial_orbital_state=initial_orbital_state,\n",
        "    telemetry=telemetry_nmea,\n",
        "    configuration=od_config,\n",
        "    parameter_estimation_requests=[drag_estimation]\n",
        ")\n",
        "\n",
        "# Run the orbit determination\n",
        "od_tle.run()"
      ]
    },
    {
      "cell_type": "markdown",
      "id": "1bd148ed",
      "metadata": {},
      "source": [
        "## Results/Post-Processing"
      ]
    },
    {
      "cell_type": "markdown",
      "id": "303be2b8",
      "metadata": {},
      "source": [
        "### Define Post-Processing Functions\n",
        "Define auxiliary functions used to plot the results"
      ]
    },
    {
      "cell_type": "code",
      "execution_count": null,
      "id": "c9e25a6a-db3a-4e31-83b5-8a9269e88e9d",
      "metadata": {},
      "outputs": [],
      "source": [
        "# Constants for plotting\n",
        "COE_KEYS = [\"SMA\", \"ECC\", \"INC\", \"RAAN\", \"AOP\", \"TA\"]\n",
        "UNITS    = [\"km\", \"\", \"deg\", \"deg\", \"deg\", \"deg\"]\n",
        "\n",
        "\n",
        "def extract_orbital_elements_from_orbit_list(keplerian_orbiti_list):\n",
        "    return {\n",
        "        COE_KEYS[0]: [keplerian_orbit.orbital_elements.SMA for keplerian_orbit in keplerian_orbiti_list],\n",
        "        COE_KEYS[1]: [keplerian_orbit.orbital_elements.ECC for keplerian_orbit in keplerian_orbiti_list],\n",
        "        COE_KEYS[2]: [keplerian_orbit.orbital_elements.INC for keplerian_orbit in keplerian_orbiti_list],\n",
        "        COE_KEYS[3]: [keplerian_orbit.orbital_elements.RAAN for keplerian_orbit in keplerian_orbiti_list],\n",
        "        COE_KEYS[4]: [keplerian_orbit.orbital_elements.AOP for keplerian_orbit in keplerian_orbiti_list],\n",
        "        COE_KEYS[5]: [keplerian_orbit.orbital_elements.TA for keplerian_orbit in keplerian_orbiti_list]\n",
        "    }\n",
        "\n",
        "\n",
        "def plot_keplerian_element(dates_list, rel_times, osculating_states, mean_states, element, title):\n",
        "    plt.figure()\n",
        "    plt.plot(rel_times, osculating_states[element], 'o', label=\"Osculating\")\n",
        "    plt.plot(rel_times, mean_states[element], 'o', label=\"Mean\")\n",
        "    plt.title(title)\n",
        "    add_grid(plt.gca())\n",
        "    plt.xlabel(f\"Time [h] since {dates_list[0]}\")\n",
        "    plt.ylabel(f\"{title} [{UNITS[COE_KEYS.index(element)]}]\")\n",
        "    plt.legend()\n",
        "    plt.show()\n",
        "\n",
        "\n",
        "def plot_residuals(dates_list, rel_times, residuals_statistics):\n",
        "    n_subplots = 4\n",
        "    fig, axs = plt.subplots(n_subplots, 1, sharex=True)\n",
        "    for i, (_k, _v) in enumerate(zip([\"altitude\", \"ground_speed\", \"latitude\", \"longitude\"], \n",
        "                   [residuals_statistics.altitude, residuals_statistics.ground_speed,\n",
        "                    residuals_statistics.latitude, residuals_statistics.longitude])):\n",
        "        axs[i].plot(rel_times, _v.values, label='Residuals')\n",
        "        # Add a red dashed line at 3 and -3\n",
        "        axs[i].axhline(y=3, color='r', linestyle='--', label=r'$\\pm3$')\n",
        "        axs[i].axhline(y=-3, color='r', linestyle='--')\n",
        "        axs[i].set_ylabel(_k)\n",
        "    for ax in axs:\n",
        "        add_grid(ax)\n",
        "    axs[0].legend(bbox_to_anchor=(1.05, 1), loc='upper left', borderaxespad=0.)\n",
        "    plt.suptitle(\"Normalized Residuals\")\n",
        "    plt.xlabel(f\"Time [h] since {dates_list[0]}\")\n",
        "    fig.tight_layout()\n",
        "    plt.show()\n"
      ]
    },
    {
      "cell_type": "markdown",
      "id": "728704b9",
      "metadata": {},
      "source": [
        "### Extract Results"
      ]
    },
    {
      "cell_type": "code",
      "execution_count": null,
      "id": "3bfbdb1c",
      "metadata": {},
      "outputs": [],
      "source": [
        "results = od_tle.result\n",
        "\n",
        "# Extract estimated states\n",
        "dates = results.in_depth_results.dates\n",
        "relative_times = [(date - dates[0]).total_seconds() / 3600 for date in dates]\n",
        "estimated_osc_states = extract_orbital_elements_from_orbit_list(results.in_depth_results.osculating_orbits)\n",
        "estimated_mean_states = extract_orbital_elements_from_orbit_list(results.in_depth_results.mean_orbits)\n",
        "\n",
        "# Extract residual statistics\n",
        "residual_statistics = results.report.residuals_statistics\n",
        "columns = [\"Parameter\", \"Mean\", \"Median\", \"Std\", \"Max\", \"Min\"]\n",
        "data = []\n",
        "for name, v in zip([\"altitude\", \"ground_speed\", \"latitude\", \"longitude\"], \n",
        "                   [residual_statistics.altitude, residual_statistics.ground_speed,\n",
        "                    residual_statistics.latitude, residual_statistics.longitude]):\n",
        "    data.append([name, v.mean, v.median, v.standard_deviation, v.max, v.min])\n",
        "\n",
        "residual_statistics_df = pd.DataFrame(data, columns=columns)\n",
        "print(\"Normalized residuals statistics\")\n",
        "residual_statistics_df"
      ]
    },
    {
      "cell_type": "markdown",
      "id": "6801fd2c",
      "metadata": {},
      "source": [
        "### Plot Results"
      ]
    },
    {
      "cell_type": "markdown",
      "id": "2d523d38",
      "metadata": {},
      "source": [
        "##### Estimated Keplerian orbital elements, osculating and mean"
      ]
    },
    {
      "cell_type": "code",
      "execution_count": null,
      "id": "f26d8000",
      "metadata": {},
      "outputs": [],
      "source": [
        "for el in COE_KEYS:\n",
        "    plot_keplerian_element(dates, relative_times, estimated_osc_states, estimated_mean_states,el, el)"
      ]
    },
    {
      "cell_type": "markdown",
      "id": "6e1d9e11",
      "metadata": {},
      "source": [
        "##### Normalized residuals"
      ]
    },
    {
      "cell_type": "code",
      "execution_count": null,
      "id": "f1e0501f",
      "metadata": {},
      "outputs": [],
      "source": [
        "plot_residuals(dates, relative_times, results.report.residuals_statistics)"
      ]
    },
    {
      "cell_type": "markdown",
      "id": "878d5349",
      "metadata": {},
      "source": [
        "##### Estimated drag coefficient"
      ]
    },
    {
      "cell_type": "code",
      "execution_count": null,
      "id": "0469c697",
      "metadata": {},
      "outputs": [],
      "source": [
        "plt.figure()\n",
        "plt.plot(relative_times, [elem.value for elem in results.in_depth_results.estimated_drag_coefficients], 'o')\n",
        "plt.title(\"Estimated Drag Coefficient\")\n",
        "plt.xlabel(f\"Time [h] since {dates[0]}\")\n",
        "plt.ylabel(\"Drag Coefficient\")\n",
        "add_grid(plt.gca())\n",
        "\n",
        "plt.show()"
      ]
    }
  ],
  "metadata": {
    "kernelspec": {
      "display_name": "Python 3 (ipykernel)",
      "language": "python",
      "name": "python3"
    },
    "language_info": {
      "codemirror_mode": {
        "name": "ipython",
        "version": 3
      },
      "file_extension": ".py",
      "mimetype": "text/x-python",
      "name": "python",
      "nbconvert_exporter": "python",
      "pygments_lexer": "ipython3",
      "version": "3.12.0"
    }
  },
  "nbformat": 4,
  "nbformat_minor": 5
}
