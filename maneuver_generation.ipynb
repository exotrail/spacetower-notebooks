{
 "cells": [
  {
   "cell_type": "markdown",
   "id": "a5187130",
   "metadata": {},
   "source": [
    "# Manoeuver Generation Workflow"
   ]
  },
  {
   "cell_type": "code",
   "execution_count": null,
   "id": "03b1a021",
   "metadata": {},
   "outputs": [],
   "source": [
    "from fds.config import set_api_key, set_url\n",
    "set_url('https://api.spacetower.exotrail.space/fds/v1')\n",
    "set_api_key('MY_API_KEY')"
   ]
  },
  {
   "cell_type": "code",
   "execution_count": null,
   "id": "0a45c90b",
   "metadata": {},
   "outputs": [],
   "source": [
    "import pandas as pd\n",
    "import plotly.express as px\n",
    "from fds.models.maneuvers.strategy import ManeuverStrategy\n",
    "from fds.models.maneuvers.use_case import ManeuverGeneration\n",
    "from fds.models.orbital_state import PropagationContext, CovarianceMatrix, OrbitalState\n",
    "from fds.models.spacecraft import Battery, SolarArray, ThrusterElectrical, SpacecraftBox\n",
    "from fds.models.two_line_element import TwoLineElement\n",
    "from fds.utils.frames import Frame\n"
   ]
  },
  {
   "cell_type": "code",
   "execution_count": null,
   "id": "13c9ee1a-35dd-4df0-a552-775d853f9553",
   "metadata": {},
   "outputs": [],
   "source": [
    "latest_tle = TwoLineElement(\n",
    "    \"1 58295U 23174AR  24137.17541737  .00005775  00000-0  29855-3 0  9994\",\n",
    "    \"2 58295  97.4580 211.9750 0010360 352.3995   7.7079 15.16607347 28836\"\n",
    ")\n",
    "\n",
    "propagation_context = PropagationContext(\n",
    "    model_perturbations=[\n",
    "        PropagationContext.Perturbation.DRAG,\n",
    "        PropagationContext.Perturbation.EARTH_POTENTIAL,\n",
    "        PropagationContext.Perturbation.SRP,\n",
    "        PropagationContext.Perturbation.THIRD_BODY,\n",
    "    ],\n",
    "    model_solar_flux=150,  # SFU\n",
    "    model_earth_potential_deg=10,\n",
    "    model_earth_potential_ord=10,\n",
    "    model_atmosphere_kind=PropagationContext.AtmosphereModel.HARRIS_PRIESTER,\n",
    "    integrator_kind=PropagationContext.IntegratorKind.DORMAND_PRINCE_853,\n",
    "    integrator_min_step=0.01,  # s\n",
    "    integrator_max_step=100,  # s\n",
    ")\n",
    "\n",
    "battery = Battery(\n",
    "    depth_of_discharge=0.3,  # 0<x<1\n",
    "    nominal_capacity=560,  # W\n",
    "    minimum_charge_for_firing=0.9,  # 0<x<1\n",
    "    initial_charge=1,  # 0<x<1\n",
    ")\n",
    "\n",
    "solar_array = SolarArray(\n",
    "    kind=\"DEPLOYABLE_FIXED\",\n",
    "    initialisation_kind=SolarArray.InitialisationKind.MAXIMUM_POWER,\n",
    "    efficiency=.293,  # 0<x<1\n",
    "    normal_in_satellite_frame=(0, 0, -1),  # Unit vector\n",
    "    maximum_power=300,  # W\n",
    "    surface=0.7490056949399673,  # m^2\n",
    ")\n",
    "\n",
    "electrical_thruster = ThrusterElectrical(\n",
    "    isp=950,  # s\n",
    "    thrust=0.005,  # N\n",
    "    axis_in_satellite_frame=(-1, 0, 0),  # Unit vector\n",
    "    propellant_mass=4,  # kg\n",
    "    wet_mass=11,  # kg\n",
    "    warm_up_duration=240,  # s\n",
    "    maximum_thrust_duration=1200,  # s\n",
    "    impulse=37265.27,  # Ns\n",
    "    power=300,  # W\n",
    "    stand_by_power=1.1,  # W\n",
    "    warm_up_power=50,  # W\n",
    ")\n",
    "\n",
    "spacecraft = SpacecraftBox(\n",
    "    battery=battery,\n",
    "    thruster=electrical_thruster,\n",
    "    solar_array=solar_array,\n",
    "    platform_mass=112,  # kg\n",
    "    drag_coefficient=2.2,\n",
    "    length_x=.5,  # m\n",
    "    length_y=.5,  # m\n",
    "    length_z=.5,  # m\n",
    "    max_angular_velocity=2,  # deg/s\n",
    "    max_angular_acceleration=.5,  # deg/s^2\n",
    ")\n",
    "\n",
    "covariance = CovarianceMatrix.from_diagonal(\n",
    "    diagonal=(100, 100, 100, 0.1, 0.1, 0.1),\n",
    "    frame=Frame.TNW\n",
    ")\n",
    "\n",
    "orbital_state = OrbitalState.from_tle(\n",
    "    tle=latest_tle,\n",
    "    covariance_matrix=covariance,\n",
    "    propagation_context=propagation_context,\n",
    "    spacecraft=spacecraft,\n",
    ")"
   ]
  },
  {
   "cell_type": "markdown",
   "id": "95e4d13f",
   "metadata": {},
   "source": [
    "## Executing the use case"
   ]
  },
  {
   "cell_type": "code",
   "execution_count": null,
   "id": "3449d581",
   "metadata": {},
   "outputs": [],
   "source": [
    "maneuver_strategy = ManeuverStrategy(\n",
    "    thrust_arcs_position=\"ASCENDING_AND_DESCENDING_NODES\",\n",
    "    thrust_arcs_number=\"ONE\",\n",
    "    thrust_arc_initialisation_kind=\"DUTY_CYCLE\",\n",
    "    number_of_thrust_orbits=1,\n",
    "    number_of_rest_orbits=2,\n",
    "    number_of_shift_orbits=1,\n",
    "    orbital_duty_cycle=0.2,\n",
    "    thrust_arc_duration=1200,\n",
    "    stop_thrust_at_eclipse=False\n",
    ")\n",
    "\n",
    "mg = ManeuverGeneration(\n",
    "    initial_orbital_state=orbital_state,\n",
    "    strategy=maneuver_strategy,\n",
    "    delta_semi_major_axis=.2,  # km\n",
    "    delta_eccentricity=0,\n",
    "    delta_inclination=0.0,\n",
    "    quaternion_step=60,\n",
    "    maximum_duration=10 * 24 * 60 * 60  # seconds\n",
    ")\n",
    "res_mg = mg.run().result"
   ]
  },
  {
   "cell_type": "markdown",
   "id": "272661e1",
   "metadata": {},
   "source": [
    "## Plotting the results"
   ]
  },
  {
   "cell_type": "code",
   "execution_count": null,
   "id": "21401593",
   "metadata": {},
   "outputs": [],
   "source": [
    "c_df, d_df = res_mg.export_roadmap_data_for_dataframe()\n",
    "c_g_th, d_g_th = res_mg.export_thruster_data_for_gantt()\n",
    "c_g_at, d_g_at = res_mg.export_attitude_data_for_gantt()\n",
    "\n",
    "df_all = pd.DataFrame(d_df, columns=c_df)\n",
    "df_all"
   ]
  },
  {
   "cell_type": "code",
   "execution_count": null,
   "id": "a3de60e0",
   "metadata": {},
   "outputs": [],
   "source": [
    "df_thruster = pd.DataFrame(d_g_th, columns=c_g_th)\n",
    "df_attitude = pd.DataFrame(d_g_at, columns=c_g_at)\n",
    "\n",
    "fig = px.timeline(df_thruster, x_start=\"Start\", x_end=\"End\", color=\"Mode\", y=\"Mode\")\n",
    "fig.show()\n",
    "\n",
    "fig = px.timeline(df_attitude, x_start=\"Start\", x_end=\"End\", color=\"Mode\", y=\"Mode\")\n",
    "fig.show()"
   ]
  }
 ],
 "metadata": {
  "kernelspec": {
   "display_name": "Python 3 (ipykernel)",
   "language": "python",
   "name": "python3"
  },
  "language_info": {
   "codemirror_mode": {
    "name": "ipython",
    "version": 3
   },
   "file_extension": ".py",
   "mimetype": "text/x-python",
   "name": "python",
   "nbconvert_exporter": "python",
   "pygments_lexer": "ipython3",
   "version": "3.12.3"
  }
 },
 "nbformat": 4,
 "nbformat_minor": 5
}
