{
  "cells": [
    {
      "cell_type": "markdown",
      "id": "a5187130",
      "metadata": {},
      "source": [
        "# Maneuver Generation \n",
        "##### This notebook guides you through designing an orbit-raising maneuver using a custom strategy focused on thrusting at the orbit nodes. You will learn how to set up orbital models, configure maneuver parameters, and analyze the results. The process includes defining the satellite's initial state from TLE data, configuring the propagation context, and generating the maneuvers to achieve the desired orbital adjustments."
      ]
    },
    {
      "cell_type": "markdown",
      "id": "c9767f34",
      "metadata": {},
      "source": [
        "## Jupyter Notebook Help Guide\n",
        "Welcome to your Jupyter Notebook! If you need assistance or more information about any function, method, or object, the contextual help window is a valuable tool.\n",
        "\n",
        "***Important - To have access to contextual help, start by running the [Imports](#imports) section below***\n",
        "\n",
        "![Run Notebook](https://portal.exotrail.space/images/products/notebooks/execute_workflow.jpg)\n"
      ]
    },
    {
      "cell_type": "markdown",
      "id": "17c0d4d9",
      "metadata": {},
      "source": [
        "### How to Open the Contextual Help Window\n"
      ]
    },
    {
      "cell_type": "markdown",
      "id": "46ff41c5",
      "metadata": {},
      "source": [
        "1. **Use the Help Menu**:\n",
        "   - Navigate to the top menu bar and click on `Help`. From the dropdown menu, select `Show Contextual Help`.\n",
        "2. **Keyboard Shortcut**:\n",
        "   - Press `Shift + Tab` while your cursor is over the code you want more information on. For a more detailed view, press `Shift + Tab` twice.\n",
        "3. **Using the Inspector**:\n",
        "   - Type `?` followed by the function or object name and run the cell. For example, `?print`.\n",
        "   - To see the full documentation, use `??` instead, e.g., `??print`.\n"
      ]
    },
    {
      "cell_type": "markdown",
      "id": "d8523db5",
      "metadata": {},
      "source": [
        "### Tips for Using the Contextual Help\n"
      ]
    },
    {
      "cell_type": "markdown",
      "id": "e7893a5f",
      "metadata": {},
      "source": [
        "- **Inline Help**: Single press `Shift + Tab` to get a brief pop-up of the docstring.\n",
        "- **Expanded Help**: Double press `Shift + Tab` or click the expand icon in the pop-up to open the full documentation in the help pane.\n",
        "- **Persistent Help Pane**: Use the Help menu or `Shift + Tab` twice to dock the help pane on the right side of the screen, where it can stay open as you work.\n",
        "This feature can help you understand function parameters, return types, and see example usages directly in your notebook. Happy coding!"
      ]
    },
    {
      "cell_type": "markdown",
      "id": "d2c40bda",
      "metadata": {},
      "source": [
        "## Imports"
      ]
    },
    {
      "cell_type": "code",
      "execution_count": null,
      "id": "03b1a021",
      "metadata": {},
      "outputs": [],
      "source": [
        "import pandas as pd\n",
        "import plotly.express as px\n",
        "\n",
        "from fds.models.maneuvers.strategy import ManeuverStrategy\n",
        "from fds.models.maneuvers.use_case import ManeuverGeneration\n",
        "from fds.models.orbital_state import PropagationContext, OrbitalState\n",
        "from fds.models.spacecraft import Battery, SolarArray, ThrusterElectrical, SpacecraftBox\n",
        "from fds.models.two_line_element import TwoLineElement"
      ]
    },
    {
      "cell_type": "markdown",
      "id": "b767b9aa",
      "metadata": {},
      "source": [
        "*Note*: If you are using this notebook locally, use the following methods to configure your credentials:"
      ]
    },
    {
      "cell_type": "markdown",
      "id": "b8142b19",
      "metadata": {},
      "source": [
        "```python\n",
        "from fds.config import set_client_id, set_client_secret\n",
        "set_client_id('CLIENT_ID')\n",
        "set_client_secret('CLIENT_SECRET')\n",
        "```"
      ]
    },
    {
      "cell_type": "markdown",
      "id": "924dfe9a",
      "metadata": {},
      "source": [
        "## Create Models"
      ]
    },
    {
      "cell_type": "markdown",
      "id": "3ec6a476",
      "metadata": {},
      "source": [
        "### Create Orbital State\n",
        "`OrbitalState` is the object used in spacetower to group information on the initial orbit, the propagation context and the spacecraft definition.  "
      ]
    },
    {
      "cell_type": "markdown",
      "id": "7cefeaa2",
      "metadata": {},
      "source": [
        "#### TLE"
      ]
    },
    {
      "cell_type": "markdown",
      "id": "038573a5",
      "metadata": {},
      "source": [
        "The TLE provides the orbital parameters needed for accurate satellite tracking and prediction."
      ]
    },
    {
      "cell_type": "code",
      "execution_count": null,
      "id": "5282d59e",
      "metadata": {},
      "outputs": [],
      "source": [
        "# Define the initial state from a public TLE\n",
        "tle = TwoLineElement(\n",
        "    \"1 58295U 23174AR  24137.17541737  .00005775  00000-0  29855-3 0  9994\",\n",
        "    \"2 58295  97.4580 211.9750 0010360 352.3995   7.7079 15.16607347 28836\"\n",
        ")\n",
        "\n",
        "print(f\"TLE date (UTC): {tle.date}\")"
      ]
    },
    {
      "cell_type": "markdown",
      "id": "79a0047e",
      "metadata": {},
      "source": [
        "#### Propagation Context"
      ]
    },
    {
      "cell_type": "markdown",
      "id": "1d2633e3",
      "metadata": {},
      "source": [
        "The `PropagationContext` object encapsulates the settings necessary to accurately propagate the satellite's orbit by accounting for gravitational and non-gravitational perturbations. Adjusting these parameters allows for fine-tuning the balance between computational efficiency and the accuracy of the simulation."
      ]
    },
    {
      "cell_type": "code",
      "execution_count": null,
      "id": "75fc45c3",
      "metadata": {},
      "outputs": [],
      "source": [
        "propagation_context = PropagationContext(\n",
        "    model_perturbations=[\n",
        "        PropagationContext.Perturbation.DRAG,\n",
        "        PropagationContext.Perturbation.EARTH_POTENTIAL,\n",
        "        PropagationContext.Perturbation.SRP,\n",
        "        PropagationContext.Perturbation.THIRD_BODY,\n",
        "    ],\n",
        "    model_solar_flux=150,  # SFU\n",
        "    model_earth_potential_deg=10,\n",
        "    model_earth_potential_ord=10,\n",
        "    model_atmosphere_kind=PropagationContext.AtmosphereModel.HARRIS_PRIESTER,\n",
        "    integrator_kind=PropagationContext.IntegratorKind.DORMAND_PRINCE_853,\n",
        "    integrator_min_step=0.01,  # s\n",
        "    integrator_max_step=100,  # s\n",
        ")"
      ]
    },
    {
      "cell_type": "markdown",
      "id": "4b6c0767",
      "metadata": {},
      "source": [
        "#### Spacecraft"
      ]
    },
    {
      "cell_type": "markdown",
      "id": "054826a2",
      "metadata": {},
      "source": [
        "Here we are using the `SpacecraftBox` class to define our spacecraft.  \n",
        "To define a simpler model, try using the `SpacecraftSphere` class where battery, solar-arrays and thrusters do not need to be defined."
      ]
    },
    {
      "cell_type": "code",
      "execution_count": null,
      "id": "13c9ee1a-35dd-4df0-a552-775d853f9553",
      "metadata": {},
      "outputs": [],
      "source": [
        "battery = Battery(\n",
        "    depth_of_discharge=0.3,  # 0<x<1\n",
        "    nominal_capacity=560,  # W\n",
        "    minimum_charge_for_firing=0.9,  # 0<x<1\n",
        "    initial_charge=1,  # 0<x<1\n",
        ")\n",
        "\n",
        "solar_array = SolarArray(\n",
        "    kind=\"DEPLOYABLE_FIXED\",\n",
        "    initialisation_kind=SolarArray.InitialisationKind.MAXIMUM_POWER,\n",
        "    efficiency=.293,  # 0<x<1\n",
        "    normal_in_satellite_frame=(0, 0, -1),  # Unit vector\n",
        "    maximum_power=300,  # W\n",
        "    surface=0.75,  # m^2\n",
        ")\n",
        "\n",
        "electrical_thruster = ThrusterElectrical(\n",
        "    isp=1100,  # s\n",
        "    thrust=0.005,  # N\n",
        "    axis_in_satellite_frame=(-1, 0, 0),  # Unit vector\n",
        "    propellant_mass=1,  # kg\n",
        "    wet_mass=13,  # kg\n",
        "    warm_up_duration=240,  # s\n",
        "    maximum_thrust_duration=1200,  # s\n",
        "    impulse=10780,  # Ns\n",
        "    power=300,  # W\n",
        "    stand_by_power=1.1,  # W\n",
        "    warm_up_power=10,  # W\n",
        ")\n",
        "\n",
        "spacecraft = SpacecraftBox(\n",
        "    battery=battery,\n",
        "    thruster=electrical_thruster,\n",
        "    solar_array=solar_array,\n",
        "    platform_mass=90,  # kg\n",
        "    drag_coefficient=2.2,\n",
        "    length_x=1,  # m\n",
        "    length_y=1,  # m\n",
        "    length_z=1,  # m\n",
        "    max_angular_velocity=2,  # deg/s\n",
        "    max_angular_acceleration=.5,  # deg/s^2\n",
        ")\n",
        "\n"
      ]
    },
    {
      "cell_type": "markdown",
      "id": "4500723c",
      "metadata": {},
      "source": [
        "#### Orbital State"
      ]
    },
    {
      "cell_type": "code",
      "execution_count": null,
      "id": "a5b404c8",
      "metadata": {},
      "outputs": [],
      "source": [
        "orbital_state = OrbitalState.from_tle(\n",
        "    tle=tle,\n",
        "    covariance_matrix=None,\n",
        "    propagation_context=propagation_context,\n",
        "    spacecraft=spacecraft,\n",
        ")"
      ]
    },
    {
      "cell_type": "markdown",
      "id": "0778226d",
      "metadata": {},
      "source": [
        "### Create Maneuver Generation Strategy"
      ]
    },
    {
      "cell_type": "markdown",
      "id": "6d60abd4",
      "metadata": {},
      "source": [
        "In this section, we define the parameters for the orbit-raising maneuver. This includes the position and number of thrust arcs, initialization method, thrust and rest orbits, duty cycle, thrust duration, and whether to stop thrusting during eclipses."
      ]
    },
    {
      "cell_type": "code",
      "execution_count": null,
      "id": "aeca0b34",
      "metadata": {},
      "outputs": [],
      "source": [
        "maneuver_strategy = ManeuverStrategy(\n",
        "    thrust_arcs_position=\"ASCENDING_AND_DESCENDING_NODES\",\n",
        "    thrust_arcs_number=\"TWO\",\n",
        "    thrust_arc_initialisation_kind=\"DUTY_CYCLE\",\n",
        "    number_of_thrust_orbits=1,\n",
        "    number_of_rest_orbits=2,\n",
        "    number_of_shift_orbits=1,\n",
        "    orbital_duty_cycle=0.2,\n",
        "    thrust_arc_duration=900,\n",
        "    stop_thrust_at_eclipse=False\n",
        ")"
      ]
    },
    {
      "cell_type": "markdown",
      "id": "95e4d13f",
      "metadata": {},
      "source": [
        "## Build & Run Use Case"
      ]
    },
    {
      "cell_type": "code",
      "execution_count": null,
      "id": "bbe5b134",
      "metadata": {},
      "outputs": [],
      "source": [
        "mg = ManeuverGeneration(\n",
        "    initial_orbital_state=orbital_state,\n",
        "    strategy=maneuver_strategy,\n",
        "    delta_semi_major_axis=.2,  # km\n",
        "    delta_eccentricity=0,\n",
        "    delta_inclination=0.0,\n",
        "    quaternion_step=60,\n",
        "    maximum_duration=10 * 24 * 60 * 60  # seconds\n",
        ")\n",
        "\n",
        "# Run the maneuver generation\n",
        "mg.run()"
      ]
    },
    {
      "cell_type": "markdown",
      "id": "bf74187d",
      "metadata": {},
      "source": [
        "## Results/Post-Processing"
      ]
    },
    {
      "cell_type": "markdown",
      "id": "bd84c1fe",
      "metadata": {},
      "source": [
        "### Extract Results"
      ]
    },
    {
      "cell_type": "code",
      "execution_count": null,
      "id": "c342062a",
      "metadata": {},
      "outputs": [],
      "source": [
        "res_mg = mg.result\n",
        "\n",
        "c_df, d_df = res_mg.export_roadmap_data_for_dataframe()\n",
        "c_g_th, d_g_th = res_mg.export_thruster_data_for_gantt()\n",
        "c_g_at, d_g_at = res_mg.export_attitude_data_for_gantt()\n",
        "\n",
        "df_all = pd.DataFrame(d_df, columns=c_df)\n",
        "\n",
        "df_thruster = pd.DataFrame(d_g_th, columns=c_g_th)\n",
        "df_attitude = pd.DataFrame(d_g_at, columns=c_g_at)"
      ]
    },
    {
      "cell_type": "markdown",
      "id": "9cda7065",
      "metadata": {},
      "source": [
        "### Plot Results"
      ]
    },
    {
      "cell_type": "markdown",
      "id": "27962e06",
      "metadata": {},
      "source": [
        "#### Chronogram corresponding to the \"Thruster Modes\" and \"Attitude Modes\""
      ]
    },
    {
      "cell_type": "code",
      "execution_count": null,
      "id": "a3de60e0",
      "metadata": {},
      "outputs": [],
      "source": [
        "fig = px.timeline(df_thruster, x_start=\"Start\", x_end=\"End\", color=\"Mode\", y=\"Mode\")\n",
        "fig.show()\n",
        "\n",
        "fig = px.timeline(df_attitude, x_start=\"Start\", x_end=\"End\", color=\"Mode\", y=\"Mode\")\n",
        "fig.show()"
      ]
    },
    {
      "cell_type": "markdown",
      "id": "9a603f00",
      "metadata": {},
      "source": [
        "### Print Maneuver Roadmap"
      ]
    },
    {
      "cell_type": "code",
      "execution_count": null,
      "id": "21401593",
      "metadata": {},
      "outputs": [],
      "source": [
        "print(\"Maneuver Roadmap\")\n",
        "df_all"
      ]
    }
  ],
  "metadata": {
    "kernelspec": {
      "display_name": "Python 3 (ipykernel)",
      "language": "python",
      "name": "python3"
    },
    "language_info": {
      "codemirror_mode": {
        "name": "ipython",
        "version": 3
      },
      "file_extension": ".py",
      "mimetype": "text/x-python",
      "name": "python",
      "nbconvert_exporter": "python",
      "pygments_lexer": "ipython3",
      "version": "3.12.0"
    }
  },
  "nbformat": 4,
  "nbformat_minor": 5
}
