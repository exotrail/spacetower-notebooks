{
 "cells": [
  {
   "cell_type": "markdown",
   "id": "726ea73e-7acb-4a6a-9f4b-4ea33032cb0f",
   "metadata": {},
   "source": [
    "# Compute orbital Ephemeris workflow"
   ]
  },
  {
   "cell_type": "markdown",
   "id": "8e1ba15c",
   "metadata": {},
   "source": [
    "### This script is used to plot the orbital ephemeris of a satellite"
   ]
  },
  {
   "cell_type": "code",
   "execution_count": null,
   "id": "84adcf26",
   "metadata": {},
   "outputs": [],
   "source": [
    "from fds.config import set_api_key, set_url\n",
    "set_url('https://api.spacetower.exotrail.space/fds/v1')\n",
    "set_api_key('MY_API_KEY')"
   ]
  },
  {
   "cell_type": "code",
   "execution_count": null,
   "id": "c8a1ca14-367e-41a9-a446-003ff45579ee",
   "metadata": {},
   "outputs": [],
   "source": [
    "from datetime import datetime, timedelta, UTC\n",
    "import pandas as pd\n",
    "from fds.models.orbit_extrapolation.requests import EphemeridesRequest\n",
    "import plotly.graph_objects as go\n",
    "from fds.models.orbit_extrapolation.use_case import OrbitExtrapolation\n",
    "from fds.models.orbital_state import OrbitalState, PropagationContext\n",
    "from fds.models.spacecraft import SpacecraftSphere\n",
    "from fds.models.two_line_element import TwoLineElement"
   ]
  },
  {
   "cell_type": "code",
   "execution_count": null,
   "id": "63030a87-c1ba-4c15-902f-bdba3ffe575f",
   "metadata": {},
   "outputs": [],
   "source": [
    "initial_tle = TwoLineElement(\n",
    "    \"1 58295U 23174AR  24137.17541737  .00005775  00000-0  29855-3 0  9994\",\n",
    "    \"2 58295  97.4580 211.9750 0010360 352.3995   7.7079 15.16607347 28836\"\n",
    ")\n",
    "\n",
    "propagation_context = PropagationContext(\n",
    "    model_perturbations=[\n",
    "        PropagationContext.Perturbation.DRAG,\n",
    "        PropagationContext.Perturbation.EARTH_POTENTIAL,\n",
    "        PropagationContext.Perturbation.SRP,\n",
    "        PropagationContext.Perturbation.THIRD_BODY,\n",
    "    ],\n",
    "    model_solar_flux=150,  # SFU\n",
    "    model_earth_potential_deg=30,\n",
    "    model_earth_potential_ord=30,\n",
    "    model_atmosphere_kind=PropagationContext.AtmosphereModel.HARRIS_PRIESTER,\n",
    "    integrator_kind=PropagationContext.IntegratorKind.DORMAND_PRINCE_853,\n",
    "    integrator_min_step=0.01,  # s\n",
    "    integrator_max_step=100,  # s\n",
    ")\n",
    "\n",
    "spacecraft = SpacecraftSphere(\n",
    "    platform_mass=150,  # kg\n",
    "    drag_coefficient=2.2,\n",
    "    cross_section=10,\n",
    "    reflectivity_coefficient=0.6\n",
    ")\n",
    "\n",
    "orbital_state = OrbitalState.from_tle(\n",
    "    tle=initial_tle,\n",
    "    propagation_context=propagation_context,\n",
    "    spacecraft=spacecraft,\n",
    ")\n",
    "\n",
    "target_date = datetime.now(UTC) + timedelta(\n",
    "    seconds=orbital_state.mean_orbit.keplerian_period * 3)\n",
    "\n",
    "ephemerides_request = EphemeridesRequest(\n",
    "    ephemeris_types=[EphemeridesRequest.EphemerisType.KEPLERIAN],\n",
    "    step=200,\n",
    ")\n",
    "\n",
    "oe = OrbitExtrapolation.with_target_date(\n",
    "    target_date=target_date,\n",
    "    initial_orbital_state=orbital_state,\n",
    "    ephemerides_request=ephemerides_request,\n",
    ")\n",
    "\n",
    "res = oe.run().result"
   ]
  },
  {
   "cell_type": "markdown",
   "id": "1d163da0",
   "metadata": {},
   "source": [
    "## Plotting the ephemeries"
   ]
  },
  {
   "cell_type": "code",
   "execution_count": null,
   "id": "b06cf4ba",
   "metadata": {},
   "outputs": [],
   "source": [
    "eph_df = pd.DataFrame(res.export_keplerian_ephemeris())\n",
    "\n",
    "#  plot\n",
    "fig = go.Figure()\n",
    "# fig.add_trace(go.Scatter(x=eph_df['date'], y=eph_df['argument_of_perigee'], mode='lines', name='x'))\n",
    "# fig.add_trace(go.Scatter(x=eph_df['date'], y=eph_df['eccentricity'], mode='lines', name='y'))\n",
    "fig.add_trace(go.Scatter(x=eph_df['date'], y=eph_df['semi_major_axis'], mode='lines', name='z'))\n",
    "# fig.add_trace(go.Scatter(x=eph_df['date'], y=eph_df['raan'], mode='lines', name='z'))\n",
    "# fig.add_trace(go.Scatter(x=eph_df['date'], y=eph_df['inclination'], mode='lines', name='z'))\n",
    "fig.update_layout(title='Ephemerides', xaxis_title='Date', yaxis_title='Position [km]')\n",
    "fig.show()"
   ]
  }
 ],
 "metadata": {
  "kernelspec": {
   "display_name": "Python 3 (ipykernel)",
   "language": "python",
   "name": "python3"
  },
  "language_info": {
   "codemirror_mode": {
    "name": "ipython",
    "version": 3
   },
   "file_extension": ".py",
   "mimetype": "text/x-python",
   "name": "python",
   "nbconvert_exporter": "python",
   "pygments_lexer": "ipython3",
   "version": "3.12.3"
  }
 },
 "nbformat": 4,
 "nbformat_minor": 5
}
