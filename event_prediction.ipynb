{
  "cells": [
    {
      "cell_type": "markdown",
      "id": "dc2f3a1e",
      "metadata": {},
      "source": [
        "# Event Prediction\n",
        "##### Predicting orbital events is essential for mission planning and operations. This notebook demonstrates how to predict these events based on numerical extrapolation. Using spacetower, you will learn how to create and configure orbital models, set up event prediction parameters, and visualize the results. This includes predicting the visibility of ground stations, detecting eclipses, and identifying node crossing events, ensuring comprehensive coverage of the satellite's behavior throughout its orbit."
      ]
    },
    {
      "cell_type": "markdown",
      "id": "56362770",
      "metadata": {},
      "source": [
        "## Jupyter Notebook Help Guide\n",
        "Welcome to your Jupyter Notebook! If you need assistance or more information about any function, method, or object, the contextual help window is a valuable tool.\n",
        "\n",
        "***Important - To have access to contextual help, start by running the [Imports](#imports) section below***\n",
        "\n",
        "![Run Notebook](https://portal.exotrail.space/images/products/notebooks/execute_workflow.jpg)\n"
      ]
    },
    {
      "cell_type": "markdown",
      "id": "6f2d4679",
      "metadata": {},
      "source": [
        "### How to Open the Contextual Help Window\n"
      ]
    },
    {
      "cell_type": "markdown",
      "id": "2f8f8de5",
      "metadata": {},
      "source": [
        "1. **Use the Help Menu**:\n",
        "   - Navigate to the top menu bar and click on `Help`. From the dropdown menu, select `Show Contextual Help`.\n",
        "2. **Keyboard Shortcut**:\n",
        "   - Press `Shift + Tab` while your cursor is over the code you want more information on. For a more detailed view, press `Shift + Tab` twice.\n",
        "3. **Using the Inspector**:\n",
        "   - Type `?` followed by the function or object name and run the cell. For example, `?print`.\n",
        "   - To see the full documentation, use `??` instead, e.g., `??print`.\n"
      ]
    },
    {
      "cell_type": "markdown",
      "id": "233be8c3",
      "metadata": {},
      "source": [
        "### Tips for Using the Contextual Help\n"
      ]
    },
    {
      "cell_type": "markdown",
      "id": "c519e3bc",
      "metadata": {},
      "source": [
        "- **Inline Help**: Single press `Shift + Tab` to get a brief pop-up of the docstring.\n",
        "- **Expanded Help**: Double press `Shift + Tab` or click the expand icon in the pop-up to open the full documentation in the help pane.\n",
        "- **Persistent Help Pane**: Use the Help menu or `Shift + Tab` twice to dock the help pane on the right side of the screen, where it can stay open as you work.\n",
        "This feature can help you understand function parameters, return types, and see example usages directly in your notebook. Happy coding!"
      ]
    },
    {
      "cell_type": "markdown",
      "id": "944436d2",
      "metadata": {},
      "source": [
        "## Imports"
      ]
    },
    {
      "cell_type": "markdown",
      "id": "944436d2",
      "metadata": {},
      "source": [
        "import datetime\n",
        "\n",
        "import numpy as np\n",
        "import pandas as pd\n",
        "import plotly.express as px\n",
        "import plotly.graph_objects as go\n",
        "\n",
        "from plotly.subplots import make_subplots\n",
        "from fds.models.ground_station import GroundStation\n",
        "from fds.models.orbit_extrapolation.requests import EventsRequestStationVisibility, EventsRequestOrbital, \\\n",
        "    MeasurementsRequestGpsNmea\n",
        "from fds.models.orbit_extrapolation.use_case import OrbitExtrapolation\n",
        "from fds.models.orbital_state import PropagationContext, OrbitalState\n",
        "from fds.models.spacecraft import Battery, SolarArray, ThrusterElectrical, SpacecraftBox\n",
        "from fds.models.two_line_element import TwoLineElement"
      ]
    },
    {
      "cell_type": "markdown",
      "id": "b48b62e2",
      "metadata": {},
      "source": [
        "*Note*: If you are using this notebook locally, use the following methods to configure your credentials:"
      ]
    },
    {
      "cell_type": "markdown",
      "id": "1fe33a7d",
      "metadata": {},
      "source": [
        "```python\n",
        "from fds.config import set_client_id, set_client_secret\n",
        "set_client_id('CLIENT_ID')\n",
        "set_client_secret('CLIENT_SECRET')\n",
        "```"
      ]
    },
    {
      "cell_type": "markdown",
      "id": "0bede6a3",
      "metadata": {},
      "source": [
        "## Create Models"
      ]
    },
    {
      "cell_type": "markdown",
      "id": "f865a594",
      "metadata": {},
      "source": [
        "### Create Orbital State\n",
        "`OrbitalState` is the object used in spacetower to group information on the initial orbit and covariance, the propagation context and the spacecraft definition.  "
      ]
    },
    {
      "cell_type": "markdown",
      "id": "867ff04b",
      "metadata": {},
      "source": [
        "#### TLE"
      ]
    },
    {
      "cell_type": "markdown",
      "id": "eaf7f3a1",
      "metadata": {},
      "source": [
        "The TLE provides the orbital parameters needed for accurate satellite tracking and prediction."
      ]
    },
    {
      "cell_type": "code",
      "execution_count": null,
      "id": "1d9b29a6-7fac-4d0a-8a72-f399b433daa7",
      "metadata": {},
      "outputs": [],
      "source": [
        "tle = TwoLineElement(\n",
        "    \"1 25544U 98067A   24142.35003124  .00022843  00000-0  38371-3 0  9995\",\n",
        "    \"2 25544  51.6390  88.3709 0003333 191.4959 306.2513 15.51667899454382\"\n",
        "    )\n",
        "\n",
        "print(f\"TLE date (UTC): {tle.date}\")"
      ]
    },
    {
      "cell_type": "markdown",
      "id": "b65d820a",
      "metadata": {},
      "source": [
        "#### Propagation Context"
      ]
    },
    {
      "cell_type": "markdown",
      "id": "c30ab870",
      "metadata": {},
      "source": [
        "The `PropagationContext` object encapsulates the settings necessary to accurately propagate the satellite's orbit by accounting for gravitational and non-gravitational perturbations. Adjusting these parameters allows for fine-tuning the balance between computational efficiency and the accuracy of the simulation."
      ]
    },
    {
      "cell_type": "code",
      "execution_count": null,
      "id": "e7a42688",
      "metadata": {},
      "outputs": [],
      "source": [
        "propagation_context = PropagationContext(\n",
        "    model_perturbations=[\n",
        "        PropagationContext.Perturbation.DRAG,\n",
        "        PropagationContext.Perturbation.EARTH_POTENTIAL,\n",
        "        PropagationContext.Perturbation.SRP,\n",
        "        PropagationContext.Perturbation.THIRD_BODY,\n",
        "    ],\n",
        "    model_solar_flux=150,  # SFU\n",
        "    model_earth_potential_deg=30,\n",
        "    model_earth_potential_ord=30,\n",
        "    model_atmosphere_kind=PropagationContext.AtmosphereModel.HARRIS_PRIESTER,\n",
        "    integrator_kind=PropagationContext.IntegratorKind.DORMAND_PRINCE_853,\n",
        "    integrator_min_step=0.01,  # s\n",
        "    integrator_max_step=100,  # s\n",
        ")"
      ]
    },
    {
      "cell_type": "markdown",
      "id": "28b42704",
      "metadata": {},
      "source": [
        "#### Spacecraft"
      ]
    },
    {
      "cell_type": "markdown",
      "id": "7135f3db",
      "metadata": {},
      "source": [
        "Here we are using the `SpacecraftBox` class to define our spacecraft.  \n",
        "To define a simpler model, try using the `SpacecraftSphere` class where battery, solar-arrays and thrusters do not need to be defined."
      ]
    },
    {
      "cell_type": "code",
      "execution_count": null,
      "id": "fd709136",
      "metadata": {},
      "outputs": [],
      "source": [
        "battery = Battery(\n",
        "    depth_of_discharge=0.3,  # 0<x<1\n",
        "    nominal_capacity=560,  # W\n",
        "    minimum_charge_for_firing=0.9,  # 0<x<1\n",
        "    initial_charge=1,  # 0<x<1\n",
        ")\n",
        "\n",
        "solar_array = SolarArray(\n",
        "    kind=\"DEPLOYABLE_FIXED\",\n",
        "    initialisation_kind=SolarArray.InitialisationKind.MAXIMUM_POWER,\n",
        "    efficiency=.293,  # 0<x<1\n",
        "    normal_in_satellite_frame=(0, 0, -1),  # Unit vector\n",
        "    maximum_power=300,  # W\n",
        "    surface=0.75,  # m^2\n",
        ")\n",
        "\n",
        "\n",
        "electrical_thruster = ThrusterElectrical(\n",
        "    isp=950,  # s\n",
        "    thrust=0.005,  # N\n",
        "    axis_in_satellite_frame=(-1, 0, 0),  # Unit vector\n",
        "    propellant_mass=4,  # kg\n",
        "    wet_mass=11,  # kg\n",
        "    warm_up_duration=240,  # s\n",
        "    maximum_thrust_duration=1200,  # s\n",
        "    impulse=37265.27,  # Ns\n",
        "    power=300,  # W\n",
        "    stand_by_power=1.1,  # W\n",
        "    warm_up_power=50,  # W\n",
        ")\n",
        "\n",
        "spacecraft = SpacecraftBox(\n",
        "    battery=battery,\n",
        "    thruster=electrical_thruster,\n",
        "    solar_array=solar_array,\n",
        "    platform_mass=112,  # kg\n",
        "    drag_coefficient=2.2,\n",
        "    length_x=.5,  # m\n",
        "    length_y=.5,  # m\n",
        "    length_z=.5,  # m\n",
        "    max_angular_velocity=2,  # deg/s\n",
        "    max_angular_acceleration=.5,  # deg/s^2\n",
        ")"
      ]
    },
    {
      "cell_type": "markdown",
      "id": "10ea6bd8",
      "metadata": {},
      "source": [
        "#### Orbital State"
      ]
    },
    {
      "cell_type": "markdown",
      "id": "8c27aaaf",
      "metadata": {},
      "source": [
        "Initiate the `OrbitalState` object with the TLE, the propagation context and the spacecraft."
      ]
    },
    {
      "cell_type": "code",
      "execution_count": null,
      "id": "665075de",
      "metadata": {},
      "outputs": [],
      "source": [
        "orbital_state = OrbitalState.from_tle(\n",
        "    tle=tle,\n",
        "    propagation_context=propagation_context,\n",
        "    spacecraft=spacecraft,\n",
        ")"
      ]
    },
    {
      "cell_type": "markdown",
      "id": "f9daf72b",
      "metadata": {},
      "source": [
        "### Create Event Prediction Configuration\n",
        "In this section we define the parameters for the event prediction. This includes the prediction window, ground stations, and the type of events to predict."
      ]
    },
    {
      "cell_type": "code",
      "execution_count": null,
      "id": "85193e5f",
      "metadata": {},
      "outputs": [],
      "source": [
        "# Set up station visibility request starting from the orbital state date \n",
        "# Try defining your own ground stations using the GroundStation class with name, latitude, longitude, altitude, and minimum elevation\n",
        "station_events_request = EventsRequestStationVisibility(\n",
        "    start_date=orbital_state.date,\n",
        "    ground_stations=[GroundStation(\"Sapporo\", 43.053451, 141.335871, 0., 5, )]\n",
        ")\n",
        "\n",
        "# Define the types of orbital events to be requested\n",
        "orbital_events = EventsRequestOrbital(\n",
        "    event_kinds=[EventsRequestOrbital.EventKind.ECLIPSE,\n",
        "                 EventsRequestOrbital.EventKind.NODE],\n",
        "    start_date=orbital_state.date)"
      ]
    },
    {
      "cell_type": "markdown",
      "id": "95c64437",
      "metadata": {},
      "source": [
        "### Create NMEA Measurements Request (for ground track plot)"
      ]
    },
    {
      "cell_type": "code",
      "execution_count": null,
      "id": "10b1a2ad-f37c-4223-942b-141926d7448a",
      "metadata": {},
      "outputs": [],
      "source": [
        "# Measurement request (for the ground track visualization)\n",
        "gps_nmea_request = MeasurementsRequestGpsNmea(\n",
        "    standard_deviation_altitude=1E-10,\n",
        "    standard_deviation_latitude=1E-10,\n",
        "    standard_deviation_longitude=1E-10,\n",
        "    standard_deviation_ground_speed=1E-10,\n",
        "    generation_step=60\n",
        ")"
      ]
    },
    {
      "cell_type": "markdown",
      "id": "a076fa18",
      "metadata": {},
      "source": [
        "## Build & Run Use Case"
      ]
    },
    {
      "cell_type": "code",
      "execution_count": null,
      "id": "b6799fed",
      "metadata": {},
      "outputs": [],
      "source": [
        "# This example will propagate the orbit for 3 orbits since the TLE date\n",
        "# *Try changing the number of orbits to propagate the orbit for a different duration*\n",
        "orbits = 3\n",
        "\n",
        "oe = OrbitExtrapolation.with_target_date(\n",
        "    target_date=orbital_state.date + datetime.timedelta(seconds=orbital_state.mean_orbit.keplerian_period * orbits),\n",
        "    initial_orbital_state=orbital_state,\n",
        "    measurements_request=gps_nmea_request,\n",
        "    orbital_events_request=orbital_events,\n",
        "    station_visibility_events_request=station_events_request\n",
        ")\n",
        "\n",
        "print(f\"Propagation orbit from TLE date to: {orbits} orbits from now\")\n",
        "print(f\"Start date: {oe.initial_date}\")\n",
        "print(f\"End date: {oe.final_date}\")\n",
        "print(f\"Duration: {format(oe.duration / 3600., '.3f')} hours\")\n",
        "\n",
        "# Run the orbit extrapolation\n",
        "oe.run()"
      ]
    },
    {
      "cell_type": "markdown",
      "id": "7c2909a8",
      "metadata": {},
      "source": [
        "## Results/Post-Processing"
      ]
    },
    {
      "cell_type": "markdown",
      "id": "ffc9a2ca",
      "metadata": {},
      "source": [
        "### Extract Results and Prepare Ground Track Data"
      ]
    },
    {
      "cell_type": "code",
      "execution_count": null,
      "id": "33824d74",
      "metadata": {},
      "outputs": [],
      "source": [
        "# Extract results from the orbit extrapolation \n",
        "res = oe.result\n",
        "\n",
        "# Retrieve the dates and measurements (latitude and longitude) from the results\n",
        "dates = np.array(res.computed_measurements[0].dates)\n",
        "latitude = np.array(res.computed_measurements[0].measurements)[:, 0]\n",
        "longitude = np.array(res.computed_measurements[0].measurements)[:, 1]\n",
        "\n",
        "# Filter out measurements before the current time\n",
        "now = datetime.datetime.now(datetime.UTC)\n",
        "now_index = np.argmax(dates > now)\n",
        "dates = dates[now_index:]\n",
        "latitude = latitude[now_index:]\n",
        "longitude = longitude[now_index:]\n",
        "\n",
        "# Calculate relative times from the start date\n",
        "relative_times = [(date - dates[0]).total_seconds() / 3600 for date in dates]\n",
        "\n",
        "# Identify the closest times to station visibility start and end events\n",
        "station_visibility_start = []\n",
        "station_visibility_end = []\n",
        "lat_closest_start, lon_closest_start, lat_closest_end, lon_closest_end = [], [], [], []\n",
        "if res.station_visibility_events is not None:\n",
        "    for event in res.station_visibility_events:\n",
        "        station_visibility_start.append(np.argmin(np.abs(dates - event.start_date)))\n",
        "        station_visibility_end.append(np.argmin(np.abs(dates - event.end_date)))\n",
        "\n",
        "    lat_closest_start = latitude[station_visibility_start]\n",
        "    lon_closest_start = longitude[station_visibility_start]\n",
        "    lat_closest_end = latitude[station_visibility_end]\n",
        "    lon_closest_end = longitude[station_visibility_end]\n",
        "\n",
        "# Create a DataFrame with the longitude, latitude, and date for plotting\n",
        "lon_lat_df = pd.DataFrame({'Longitude': longitude, 'Latitude': latitude, 'Date': dates})"
      ]
    },
    {
      "cell_type": "markdown",
      "id": "0dc5486f",
      "metadata": {},
      "source": [
        "### Plot Results"
      ]
    },
    {
      "cell_type": "markdown",
      "id": "e0d98ae2",
      "metadata": {},
      "source": [
        "#### Orbit Track"
      ]
    },
    {
      "cell_type": "code",
      "execution_count": null,
      "id": "f1ddab51",
      "metadata": {},
      "outputs": [],
      "source": [
        "\n",
        "fig = go.Figure()\n",
        "\n",
        "# Plot the orbit track\n",
        "fig.add_trace(go.Scattergeo(\n",
        "    lat=lon_lat_df['Latitude'],\n",
        "    lon=lon_lat_df['Longitude'],\n",
        "    mode='markers+lines',\n",
        "    line=dict(width=1, color='black'),\n",
        "    marker=dict(\n",
        "        size=4,\n",
        "        color='black',\n",
        "    ),\n",
        "    name=\"Orbit track\",\n",
        "))\n",
        "\n",
        "# Add a point for the initial position\n",
        "fig.add_trace(go.Scattergeo(\n",
        "    lat=[latitude[0]],\n",
        "    lon=[longitude[0]],\n",
        "    mode='markers',\n",
        "    marker=dict(\n",
        "        size=8,\n",
        "        color='red',\n",
        "    ),\n",
        "    name=f\"Initial position at {dates[0]}\",\n",
        "))\n",
        "\n",
        "# Add a point for the ground station closest to the start of the visibility\n",
        "if res.station_visibility_events is not None:\n",
        "    for i in range(len(station_visibility_start)):\n",
        "        fig.add_trace(go.Scattergeo(\n",
        "            lat=[lat_closest_start[i]],\n",
        "            lon=[lon_closest_start[i]],\n",
        "            mode='markers',\n",
        "            marker=dict(\n",
        "                size=12,\n",
        "                color='green',\n",
        "                symbol='triangle-up'\n",
        "            ),\n",
        "            name=f\"Visibility start ({dates[station_visibility_start[i]]})\",\n",
        "        ))\n",
        "\n",
        "    # Add a point for the ground station closest to the end of the visibility\n",
        "    for i in range(len(station_visibility_end)):\n",
        "        fig.add_trace(go.Scattergeo(\n",
        "            lat=[lat_closest_end[i]],\n",
        "            lon=[lon_closest_end[i]],\n",
        "            mode='markers',\n",
        "            marker=dict(\n",
        "                size=12,\n",
        "                color='orange',\n",
        "                symbol='triangle-down'\n",
        "            ),\n",
        "            name=f\"Visibility end ({dates[station_visibility_end[i]]})\",\n",
        "        ))\n",
        "\n",
        "# Add a point for the target position\n",
        "fig.add_trace(go.Scattergeo(\n",
        "    lat=[station_events_request.ground_stations[0].coordinates.latitude],\n",
        "    lon=[station_events_request.ground_stations[0].coordinates.longitude],\n",
        "    mode='markers',\n",
        "    marker=dict(\n",
        "        size=8,\n",
        "        color='blue',\n",
        "    ),\n",
        "    name=station_events_request.ground_stations[0].name,\n",
        "))\n",
        "\n",
        "fig.update_layout(\n",
        "    title_text=f\"Orbit track\",\n",
        ")\n",
        "fig.show()"
      ]
    },
    {
      "cell_type": "markdown",
      "id": "f157c71c",
      "metadata": {},
      "source": [
        "#### Events Timeline"
      ]
    },
    {
      "cell_type": "code",
      "execution_count": null,
      "id": "c034c58c",
      "metadata": {},
      "outputs": [],
      "source": [
        "# Export the event data to a DataFrame \n",
        "dat = res.export_event_gantt_data()\n",
        "df_timeline = pd.DataFrame(dat)\n",
        "\n",
        "# Filter out DESCENDING and ASCENDING events\n",
        "df_timeline = df_timeline[df_timeline[\"event\"] != \"DESCENDING_NODE\"]\n",
        "df_timeline = df_timeline[df_timeline[\"event\"] != \"ASCENDING_NODE\"]\n",
        "\n",
        "# Create the timeline plot\n",
        "fig = px.timeline(df_timeline, x_start=\"start_date\", x_end=\"end_date\", y=\"event\", color=\"event\",\n",
        "                  labels={'Task': 'Event'},\n",
        "                  title='Events timeline',\n",
        "                  hover_name=\"event\",\n",
        "                  hover_data={\"ground_station_name\": True}\n",
        "                  )\n",
        "fig.show()"
      ]
    }
  ],
  "metadata": {
    "kernelspec": {
      "display_name": "Python 3 (ipykernel)",
      "language": "python",
      "name": "python3"
    },
    "language_info": {
      "codemirror_mode": {
        "name": "ipython",
        "version": 3
      },
      "file_extension": ".py",
      "mimetype": "text/x-python",
      "name": "python",
      "nbconvert_exporter": "python",
      "pygments_lexer": "ipython3",
      "version": "3.12.0"
    }
  },
  "nbformat": 4,
  "nbformat_minor": 5
}
