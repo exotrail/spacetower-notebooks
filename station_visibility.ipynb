{
 "cells": [
  {
   "cell_type": "markdown",
   "metadata": {},
   "source": [
    "# Station Visibility"
   ]
  },
  {
   "cell_type": "code",
   "execution_count": null,
   "metadata": {},
   "outputs": [],
   "source": [
    "from fds.config import set_api_key, set_url\n",
    "set_url('https://api.spacetower.exotrail.space/fds/v1')\n",
    "set_api_key('MY_API_KEY')"
   ]
  },
  {
   "cell_type": "code",
   "execution_count": null,
   "metadata": {},
   "outputs": [],
   "source": [
    "from datetime import datetime, timedelta, UTC\n",
    "import pandas as pd\n",
    "from fds.models.ground_station import GroundStation\n",
    "from fds.models.orbit_extrapolation.requests import EventsRequestStationVisibility\n",
    "import plotly.express as px\n",
    "\n",
    "from fds.models.orbit_extrapolation.use_case import OrbitExtrapolation\n",
    "from fds.models.orbital_state import OrbitalState, PropagationContext\n",
    "from fds.models.spacecraft import SpacecraftSphere\n",
    "from fds.models.two_line_element import TwoLineElement"
   ]
  },
  {
   "cell_type": "code",
   "execution_count": null,
   "metadata": {},
   "outputs": [],
   "source": [
    "initial_tle = TwoLineElement(\n",
    "    \"1 58295U 23174AR  24137.17541737  .00005775  00000-0  29855-3 0  9994\",\n",
    "    \"2 58295  97.4580 211.9750 0010360 352.3995   7.7079 15.16607347 28836\"\n",
    ")"
   ]
  },
  {
   "cell_type": "code",
   "execution_count": null,
   "metadata": {},
   "outputs": [],
   "source": [
    "propagation_context = PropagationContext(\n",
    "    model_perturbations=[\n",
    "        PropagationContext.Perturbation.DRAG,\n",
    "        PropagationContext.Perturbation.EARTH_POTENTIAL,\n",
    "        PropagationContext.Perturbation.SRP,\n",
    "        PropagationContext.Perturbation.THIRD_BODY,\n",
    "    ],\n",
    "    model_solar_flux=150,  # SFU\n",
    "    model_earth_potential_deg=30,\n",
    "    model_earth_potential_ord=30,\n",
    "    model_atmosphere_kind=PropagationContext.AtmosphereModel.HARRIS_PRIESTER,\n",
    "    integrator_kind=PropagationContext.IntegratorKind.DORMAND_PRINCE_853,\n",
    "    integrator_min_step=0.01,  # s\n",
    "    integrator_max_step=100,  # s\n",
    ")\n",
    "\n",
    "spacecraft = SpacecraftSphere(\n",
    "    platform_mass=150,  # kg\n",
    "    drag_coefficient=2.2,\n",
    "    cross_section=10,\n",
    "    reflectivity_coefficient=0.6\n",
    ")\n",
    "\n",
    "orbital_state = OrbitalState.from_tle(\n",
    "    tle=initial_tle,\n",
    "    propagation_context=propagation_context,\n",
    "    spacecraft=spacecraft,\n",
    ")\n",
    "\n",
    "target_date = datetime.now(UTC) + timedelta(\n",
    "    seconds=orbital_state.mean_orbit.keplerian_period * 3)\n",
    "\n",
    "station_events_request = EventsRequestStationVisibility(\n",
    "    start_date=orbital_state.date,\n",
    "    ground_stations=[GroundStation(\"Toulouse\", 43.6047, 1.4442, 0.115, 5, )]\n",
    ")"
   ]
  },
  {
   "cell_type": "code",
   "execution_count": null,
   "metadata": {},
   "outputs": [],
   "source": [
    "oe = OrbitExtrapolation.with_target_date(\n",
    "    target_date=target_date,\n",
    "    initial_orbital_state=orbital_state,\n",
    "    station_visibility_events_request=station_events_request,\n",
    ")\n",
    "\n",
    "res = oe.run().result"
   ]
  },
  {
   "cell_type": "code",
   "execution_count": null,
   "metadata": {},
   "outputs": [],
   "source": [
    "df_timeline = pd.DataFrame(res.export_event_gantt_data())\n",
    "df_timeline = df_timeline[df_timeline[\"event\"] != \"DESCENDING_NODE\"]\n",
    "df_timeline = df_timeline[df_timeline[\"event\"] != \"ASCENDING_NODE\"]\n",
    "fig = px.timeline(df_timeline, x_start=\"start_date\", x_end=\"end_date\", y=\"event\", color=\"event\",\n",
    "                  labels={'Task': 'Event'},\n",
    "                  title='Events timeline',\n",
    "                  hover_name=\"event\",\n",
    "                  hover_data={\"ground_station_name\": True}\n",
    "                  )\n",
    "fig.show()"
   ]
  }
 ],
 "metadata": {
  "kernelspec": {
   "display_name": ".venv",
   "language": "python",
   "name": "python3"
  },
  "language_info": {
   "codemirror_mode": {
    "name": "ipython",
    "version": 3
   },
   "file_extension": ".py",
   "mimetype": "text/x-python",
   "name": "python",
   "nbconvert_exporter": "python",
   "pygments_lexer": "ipython3",
   "version": "3.12.3"
  }
 },
 "nbformat": 4,
 "nbformat_minor": 2
}
